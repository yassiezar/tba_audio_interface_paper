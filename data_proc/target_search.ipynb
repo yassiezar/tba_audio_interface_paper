{
 "cells": [
  {
   "cell_type": "code",
   "execution_count": 20,
   "metadata": {},
   "outputs": [],
   "source": [
    "%matplotlib inline\n",
    "#%load_ext autoreload\n",
    "#%autoreload 2\n",
    "import glob\n",
    "\n",
    "import matplotlib.pyplot as plt\n",
    "import numpy as np\n",
    "import pandas as pd\n",
    "import scipy as sp\n",
    "import scipy.stats as stats\n",
    "\n",
    "from DataClass import Data, MassData, Utils\n",
    "from geo import Vector, Quaternion"
   ]
  },
  {
   "cell_type": "markdown",
   "metadata": {},
   "source": [
    "# Util"
   ]
  },
  {
   "cell_type": "code",
   "execution_count": 2,
   "metadata": {},
   "outputs": [],
   "source": [
    "def reject_outliers(data, m=3):\n",
    "    return data[np.abs(data - np.mean(data)) < m*np.std(data)]"
   ]
  },
  {
   "cell_type": "code",
   "execution_count": 3,
   "metadata": {},
   "outputs": [],
   "source": [
    "def reject_outliers_with_time(data, time, m=3):\n",
    "    return data[np.abs(data - np.mean(data)) < m*np.std(data)], time[np.abs(data - np.mean(data)) < m*np.std(data)]"
   ]
  },
  {
   "cell_type": "markdown",
   "metadata": {},
   "source": [
    "## Target/Actual Difference"
   ]
  },
  {
   "cell_type": "code",
   "execution_count": 4,
   "metadata": {},
   "outputs": [],
   "source": [
    "def get_tango_angle(qx, qy, qz, qw):\n",
    "    tango_orientation = Quaternion(x=qx, y=qy, z=qz, w=qw)\n",
    "    tango_orientation.normalise()\n",
    "\n",
    "    # Rotate Tango orientation to fall onto the world axis system\n",
    "    rotate = Quaternion(vector=Vector(1, 0, 0), angle=np.pi/2)\n",
    "    rotate.normalise()\n",
    "    tango_orientation = tango_orientation.multiply(rotate)\n",
    "    tango_orientation.normalise()\n",
    "\n",
    "    tango_forward_vector = Vector(0.0, 0.0, -1.0)\n",
    "    tango_forward_facing_vector = tango_forward_vector.rotate_vector(tango_orientation)\n",
    "\n",
    "    tilt = np.arctan2(tango_forward_facing_vector.y, tango_forward_facing_vector.z)\n",
    "    pan = np.arctan2(tango_forward_facing_vector.x, tango_forward_facing_vector.z)\n",
    "        \n",
    "    if tilt < -np.pi/2:\n",
    "        tilt += np.pi\n",
    "    elif tilt > np.pi/2:\n",
    "        tilt -= np.pi\n",
    "    if pan < -np.pi/2:\n",
    "        pan += np.pi\n",
    "    elif pan > np.pi/2:\n",
    "        pan -= np.pi\n",
    "\n",
    "    return pan, tilt"
   ]
  },
  {
   "cell_type": "code",
   "execution_count": 5,
   "metadata": {},
   "outputs": [],
   "source": [
    "def get_target_tango_angle(sample, tilt=True):\n",
    "    \n",
    "    tango_orientation = Quaternion(x=sample['qx'], y=sample['qy'], z=sample['qz'], w=sample['qw'])\n",
    "    tango_orientation.normalise()\n",
    "\n",
    "    # Rotate Tango orientation to fall onto the world axis system\n",
    "    rotate = Quaternion(vector=Vector(1, 0, 0), angle=np.pi/2)\n",
    "    rotate.normalise()\n",
    "    tango_orientation = tango_orientation.multiply(rotate)\n",
    "    tango_orientation.normalise()\n",
    "\n",
    "    tango_forward_vector = Vector(0.0, 0.0, -1.0)\n",
    "    tango_forward_facing_vector = tango_forward_vector.rotate_vector(tango_orientation)\n",
    "    #tango_forward_facing_vector.normalise()\n",
    "\n",
    "    vector_to_target = Vector(sample['tx'] - sample['x'], sample['ty'] - sample['z'], sample['tz'] - sample['y'])\n",
    "    #vector_to_target.normalise()\n",
    "    #rotate = Quaternion(vector=Vector(0, 0, 1), angle=math.pi)\n",
    "    #rotate.normalise()\n",
    "    #vector_to_target = vector_to_target.rotate_vector(rotate)\n",
    "    #vector_to_target.normalise()\n",
    "\n",
    "    if tilt:\n",
    "        tango = np.arctan2(tango_forward_facing_vector.y, tango_forward_facing_vector.z)\n",
    "        target = np.arctan2(vector_to_target.y, -vector_to_target.z)\n",
    "    else:\n",
    "        tango = np.arctan2(tango_forward_facing_vector.x, tango_forward_facing_vector.z)\n",
    "        #tango = math.atan2(tango_forward_facing_vector.y, np.abs(tango_forward_facing_vector.z))\n",
    "        target = np.arctan2(vector_to_target.x, -vector_to_target.z)\n",
    "        \n",
    "    if tango < -np.pi/2:\n",
    "        tango += np.pi\n",
    "    elif tango > np.pi/2:\n",
    "        tango -= np.pi\n",
    "    if target < -np.pi/2:\n",
    "        target += np.pi\n",
    "    elif target > np.pi/2:\n",
    "        target -= np.pi\n",
    "\n",
    "    return target, tango"
   ]
  },
  {
   "cell_type": "code",
   "execution_count": 6,
   "metadata": {},
   "outputs": [],
   "source": [
    "def get_guesses_actual(data):\n",
    "    pans = []\n",
    "    tilts = []\n",
    "    for sample in [data.get(i) for i in data.target_indices]:\n",
    "        target, tango = get_target_tango_angle(sample, False)\n",
    "        pans.append((target, tango))\n",
    "        target, tango = get_target_tango_angle(sample, True)\n",
    "        tilts.append((target, tango))\n",
    "        \n",
    "    return pans, tilts"
   ]
  },
  {
   "cell_type": "markdown",
   "metadata": {},
   "source": [
    "## Angle errors"
   ]
  },
  {
   "cell_type": "code",
   "execution_count": 7,
   "metadata": {},
   "outputs": [],
   "source": [
    "def get_angle_diff(sample, tilt=True):\n",
    "    tango_orientation = Quaternion(x=sample['qx'], y=sample['qy'], z=sample['qz'], w=sample['qw'])\n",
    "    tango_orientation.normalise()\n",
    "\n",
    "    # Rotate Tango orientation to fall onto the world axis system\n",
    "    rotate = Quaternion(vector=Vector(1, 0, 0), angle=-np.pi/2)\n",
    "    rotate.normalise()\n",
    "    tango_orientation = tango_orientation.multiply(rotate)\n",
    "    tango_orientation.normalise()\n",
    "\n",
    "    tango_forward_vector = Vector(0.0, 0.0, -1.0)\n",
    "    tango_forward_facing_vector = tango_forward_vector.rotate_vector(tango_orientation)\n",
    "    tango_forward_facing_vector.normalise()\n",
    "\n",
    "    vector_to_target = Vector(sample['tx'] - sample['x'], sample['ty'] - sample['z'], sample['tz'] - sample['y'])\n",
    "    vector_to_target.normalise()\n",
    "    rotate = Quaternion(vector=Vector(0, 0, 1), angle=np.pi)\n",
    "    rotate.normalise()\n",
    "    vector_to_target = vector_to_target.rotate_vector(rotate)\n",
    "    vector_to_target.normalise()\n",
    "\n",
    "    if tilt:\n",
    "        tango = Vector(0, tango_forward_facing_vector.y, tango_forward_facing_vector.z)\n",
    "        tango.normalise()\n",
    "        target = Vector(0, vector_to_target.y, vector_to_target.z)\n",
    "        target.normalise()\n",
    "\n",
    "        angle = tango.inv_dot_product(target)\n",
    "        \n",
    "        # Test to see if rotation is positive or negative\n",
    "        test = tango.cross_product(target)\n",
    "        if test.x < 0:\n",
    "            angle = -angle\n",
    "\n",
    "    else:\n",
    "        tango = Vector(tango_forward_facing_vector.x, 0, tango_forward_facing_vector.z)\n",
    "        tango.normalise()\n",
    "        target = Vector(vector_to_target.x, 0, vector_to_target.z)\n",
    "        target.normalise()\n",
    "\n",
    "        angle = tango.inv_dot_product(target)\n",
    "        \n",
    "        # Test to see if rotation is positive or negative\n",
    "        test = tango.cross_product(target)\n",
    "        if test.y < 0:\n",
    "            angle = -angle\n",
    "\n",
    "    return angle"
   ]
  },
  {
   "cell_type": "code",
   "execution_count": 8,
   "metadata": {},
   "outputs": [],
   "source": [
    "def get_error(data):\n",
    "    pans = []\n",
    "    tilts = []\n",
    "    for sample in [data.get(i) for i in data.target_indices]:\n",
    "        tilt = get_angle_diff(sample, tilt=True)\n",
    "        if tilt < -np.pi/2:\n",
    "            tilt += np.pi\n",
    "        elif tilt > np.pi/2:\n",
    "            tilt -= np.pi\n",
    "        tilts.append(tilt)\n",
    "\n",
    "        pan = get_angle_diff(sample, tilt=False)\n",
    "        if pan < -np.pi/2:\n",
    "            pan += np.pi\n",
    "        elif pan > np.pi/2:\n",
    "            pan -= np.pi\n",
    "        pans.append(pan)\n",
    "    return (pans, tilts)"
   ]
  },
  {
   "cell_type": "markdown",
   "metadata": {},
   "source": [
    "# Data import"
   ]
  },
  {
   "cell_type": "markdown",
   "metadata": {},
   "source": [
    "## Sighted"
   ]
  },
  {
   "cell_type": "code",
   "execution_count": 9,
   "metadata": {},
   "outputs": [],
   "source": [
    "participant_list = glob.glob('/home/jaycee/workspace/data_processing/target_search/input/cleaned/sighted/*/*/')\n",
    "data_s = {'med': [], 'lo': [], 'hi': []}\n",
    "\n",
    "# Import data\n",
    "for p in participant_list:\n",
    "    for test in data_s.keys():\n",
    "        for f in glob.glob(p + 'target/' + test + '/*.csv'):\n",
    "            data_s[test].append(Data(f, 'target', test))"
   ]
  },
  {
   "cell_type": "code",
   "execution_count": 57,
   "metadata": {},
   "outputs": [],
   "source": [
    "p_err_s = {'med': [], 'lo': [], 'hi': []}\n",
    "t_err_s = {'med': [], 'lo': [], 'hi': []}\n",
    "\n",
    "t_corr_s = {'med': [], 'lo': [], 'hi': []}\n",
    "p_corr_s = {'med': [], 'lo': [], 'hi': []}\n",
    "\n",
    "for test in data_s.keys():\n",
    "    pe = []\n",
    "    te = []\n",
    "    pc = []\n",
    "    tc = []\n",
    "    for sample in data_s[test]:\n",
    "        angles = get_error(sample)\n",
    "        pe.append(angles[0])\n",
    "        te.append(angles[1])\n",
    "\n",
    "        angles = get_guesses_actual(sample)\n",
    "        pc.append(angles[0])\n",
    "        tc.append(angles[1])\n",
    "    p_err_s[test] += pe\n",
    "    t_err_s[test] += te\n",
    "    p_corr_s[test] += pc\n",
    "    t_corr_s[test] += tc"
   ]
  },
  {
   "cell_type": "markdown",
   "metadata": {},
   "source": [
    "## Blind"
   ]
  },
  {
   "cell_type": "code",
   "execution_count": 11,
   "metadata": {},
   "outputs": [],
   "source": [
    "participant_list = glob.glob('/home/jaycee/workspace/data_processing/target_search/input/cleaned/blind/*/*/')\n",
    "data_b = {'med': [], 'lo': [], 'hi': []}\n",
    "\n",
    "# Import data\n",
    "for p in participant_list:\n",
    "    for test in data_b.keys():\n",
    "        for f in glob.glob(p + 'target/' + test + '/*.csv'):\n",
    "            data_b[test].append(Data(f, 'target', test))"
   ]
  },
  {
   "cell_type": "code",
   "execution_count": 67,
   "metadata": {},
   "outputs": [],
   "source": [
    "p_err_b = {'med': [], 'lo': [], 'hi': []}\n",
    "t_err_b = {'med': [], 'lo': [], 'hi': []}\n",
    "\n",
    "t_corr_b = {'med': [], 'lo': [], 'hi': []}\n",
    "p_corr_b = {'med': [], 'lo': [], 'hi': []}\n",
    "\n",
    "for test in data_b.keys():\n",
    "    pe = []\n",
    "    te = []\n",
    "    pc = []\n",
    "    tc = []\n",
    "    \n",
    "    for sample in data_b[test]:\n",
    "        angles = get_error(sample)\n",
    "        pe.append(angles[0])\n",
    "        te.append(angles[1])\n",
    "\n",
    "        angles = get_guesses_actual(sample)\n",
    "        pc.append(angles[0])\n",
    "        tc.append(angles[1])\n",
    "    p_err_b[test] += pe\n",
    "    t_err_b[test] += te\n",
    "    p_corr_b[test] += pc\n",
    "    t_corr_b[test] += tc"
   ]
  },
  {
   "cell_type": "markdown",
   "metadata": {},
   "source": [
    "# Results"
   ]
  },
  {
   "cell_type": "markdown",
   "metadata": {},
   "source": [
    "## Combined"
   ]
  },
  {
   "cell_type": "code",
   "execution_count": 79,
   "metadata": {},
   "outputs": [
    {
     "data": {
      "image/png": "[encoded data removed]",
      "text/plain": [
       "<Figure size 720x720 with 7 Axes>"
      ]
     },
     "metadata": {
      "needs_background": "light"
     },
     "output_type": "display_data"
    }
   ],
   "source": [
    "f, ax = plt.subplots(3, 2, sharey=True, sharex=True, figsize=(10, 10))\n",
    "f.add_subplot(111, frameon=False)\n",
    "\n",
    "bins = 30\n",
    "a = {'lo': 0, 'med': 1, 'hi': 2}\n",
    "\n",
    "for test in a:\n",
    "    ax[a[test], 0].hist2d([item for sublist in p_err_s[test] for item in sublist], [item for sublist in t_err_s[test] for item in sublist], bins=bins, cmap='Greys')\n",
    "    ax[a[test], 0].grid()\n",
    "    ax[a[test], 0].tick_params(axis='both', which='major', labelsize=22)\n",
    "    \n",
    "    ax[a[test], 1].yaxis.set_label_position('right')\n",
    "    ax[a[test], 1].yaxis.tick_right()\n",
    "    ax[a[test], 1].set_ylabel(test, fontsize=22, rotation=0, labelpad=24)\n",
    "\n",
    "    ax[a[test], 1].hist2d([item for sublist in p_err_b[test] for item in sublist], [item for sublist in t_err_b[test] for item in sublist], bins=bins, cmap='Greys')\n",
    "    ax[a[test], 1].grid()\n",
    "    ax[a[test], 1].tick_params(axis='both', which='major', labelsize=22)\n",
    "    ax[a[test], 1].set_xticks([-np.pi/2, -np.pi/4, 0, np.pi/4, np.pi/2])\n",
    "    ax[a[test], 1].set_yticks([-np.pi/2, -np.pi/4, 0, np.pi/4, np.pi/2])\n",
    "\n",
    "ax[0, 0].set_title('Blindfolded', fontsize=22)\n",
    "\n",
    "ax[0, 1].set_title('Blind', fontsize=22)\n",
    "ax[0, 1].set_xlim([-np.pi/2-0.2, np.pi/2+0.2])\n",
    "ax[0, 1].set_ylim([-np.pi/2-0.2, np.pi/2+0.2])\n",
    "\n",
    "#ax[1, 0].set_xticklabels([r'$-\\frac{\\pi}{2}$', r'$-\\frac{\\pi}{4}$', 0, r'$\\frac{\\pi}{4}$', r'$\\frac{\\pi}{2}$'])\n",
    "#ax[1, 0].set_yticklabels([r'$-\\frac{\\pi}{2}$', r'$-\\frac{\\pi}{4}$', 0, r'$\\frac{\\pi}{4}$', r'$\\frac{\\pi}{2}$'])\n",
    "ax[1, 0].set_xticklabels([r'$-\\frac{\\pi}{2}$', '', 0, '', r'$\\frac{\\pi}{2}$'])\n",
    "ax[1, 0].set_yticklabels([r'$-\\frac{\\pi}{2}$', '', 0, '', r'$\\frac{\\pi}{2}$'])\n",
    "\n",
    "plt.xlabel('Pan Error [rad]', fontsize=22, labelpad=24)\n",
    "plt.ylabel('Tilt Error [rad]', fontsize=22, labelpad=24)\n",
    "plt.tight_layout()\n",
    "plt.tick_params(labelcolor='none', top=False, bottom=False, left=False, right=False, which='both')\n",
    "\n",
    "plt.show()"
   ]
  },
  {
   "cell_type": "markdown",
   "metadata": {},
   "source": [
    "## Boxplots"
   ]
  },
  {
   "cell_type": "code",
   "execution_count": 172,
   "metadata": {},
   "outputs": [
    {
     "name": "stdout",
     "output_type": "stream",
     "text": [
      "pan sighted: 0.6833333333333333\n",
      "tilt sighted: 0.6666666666666666\n",
      "pan blind: 0.75\n",
      "tilt blind: 0.625\n",
      "pan sighted: 0.7457627118644068\n",
      "tilt sighted: 0.711864406779661\n",
      "pan blind: 0.5\n",
      "tilt blind: 0.5625\n",
      "pan sighted: 0.5254237288135594\n",
      "tilt sighted: 0.7288135593220338\n",
      "pan blind: 0.7647058823529411\n",
      "tilt blind: 0.6470588235294118\n"
     ]
    }
   ],
   "source": [
    "for test in ['lo', 'med', 'hi']:\n",
    "    t = [stats.shapiro(sample) if len(sample) > 3 else (0, 0) for sample in p_err_s[test]]\n",
    "    p_sig_s = sum([1 if p > 0.05 else 0 for _, p in t])\n",
    "    print('pan sighted: {}'.format(p_sig_s/len(t)))\n",
    "    \n",
    "    t = [stats.shapiro(sample) if len(sample) > 3 else (0, 0) for sample in t_err_s[test]]\n",
    "    t_sig_s = sum([1 if p > 0.05 else 0 for _, p in t])\n",
    "    print('tilt sighted: {}'.format(t_sig_s/len(t)))\n",
    "    \n",
    "    t = [stats.shapiro(sample) if len(sample) > 3 else (0, 0) for sample in p_err_b[test]]\n",
    "    p_sig_b = sum([1 if p > 0.05 else 0 for _, p in t])\n",
    "    print('pan blind: {}'.format(p_sig_b/len(t)))\n",
    "    \n",
    "    t = [stats.shapiro(sample) if len(sample) > 3 else (0, 0) for sample in t_err_b[test]]\n",
    "    t_sig_b = sum([1 if p > 0.05 else 0 for _, p in t])\n",
    "    print('tilt blind: {}'.format(t_sig_b/len(t)))"
   ]
  },
  {
   "cell_type": "code",
   "execution_count": 131,
   "metadata": {},
   "outputs": [
    {
     "data": {
      "image/png": "[encoded data removed]",
      "text/plain": [
       "<Figure size 720x504 with 3 Axes>"
      ]
     },
     "metadata": {
      "needs_background": "light"
     },
     "output_type": "display_data"
    }
   ],
   "source": [
    "f, ax = plt.subplots(1, 2, sharey=True, figsize=(10, 7))\n",
    "f.add_subplot(111, frameon=False)\n",
    "\n",
    "a = {'lo': 0, 'med': 1, 'hi': 2}\n",
    "\n",
    "ax[0].boxplot([[np.median(x) for x in p_err_s['lo'] if len(x) > 0], [np.median(x) for x in p_err_s['med'] if len(x) > 0], [np.median(x) for x in p_err_s['hi']]], positions=[0.8, 1.8, 2.8], showfliers=False)\n",
    "ax[0].boxplot([[np.median(x) for x in t_err_s['lo'] if len(x) > 0], [np.median(x) for x in t_err_s['med'] if len(x) > 0], [np.median(x) for x in t_err_s['hi']]], positions=[1.2, 2.2, 3.2], showfliers=False)\n",
    "ax[0].set_ylim([-np.pi/3, np.pi/3])\n",
    "ax[0].set_xlim([0.5, 3.5])\n",
    "ax[0].grid()\n",
    "\n",
    "ax[1].boxplot([[np.median(x) for x in p_err_b['lo']], [np.median(x) for x in p_err_b['med']], [np.median(x) for x in p_err_b['hi'] if len(x) > 0]], positions=[0.8, 1.8, 2.8], showfliers=False)\n",
    "ax[1].boxplot([[np.median(x) for x in t_err_b['lo']], [np.median(x) for x in t_err_b['med']], [np.median(x) for x in t_err_b['hi'] if len(x) > 0]], positions=[1.2, 2.2, 3.2], showfliers=False)\n",
    "ax[1].grid()\n",
    "ax[1].set_xlim([0.5, 3.5])\n",
    "\n",
    "plt.tick_params(labelcolor='none', top=False, bottom=False, left=False, right=False, which='both')\n",
    "plt.tight_layout()\n",
    "plt.show()"
   ]
  },
  {
   "cell_type": "code",
   "execution_count": 181,
   "metadata": {},
   "outputs": [
    {
     "name": "stdout",
     "output_type": "stream",
     "text": [
      "Sighted pan: KruskalResult(statistic=0.149651839530405, pvalue=0.9279050021904365)\n",
      "Signted tilt: KruskalResult(statistic=1.4046025079667963, pvalue=0.49544384877565373)\n",
      "Blind pan: KruskalResult(statistic=2.28125, pvalue=0.3196191973793099)\n",
      "Blind tilt: KruskalResult(statistic=0.4151785714285552, pvalue=0.8125406902583296)\n"
     ]
    }
   ],
   "source": [
    "print('Sighted pan: {}'.format(stats.kruskal([np.median(x) for x in p_err_s['lo'] if len(x) > 0], [np.median(x) for x in p_err_s['med'] if len(x) > 0], [np.median(x) for x in p_err_s['hi'] if len(x) > 0])))\n",
    "print('Signted tilt: {}'.format(stats.kruskal([np.median(x) for x in t_err_s['lo'] if len(x) > 0], [np.median(x) for x in t_err_s['med'] if len(x) > 0], [np.median(x) for x in t_err_s['hi'] if len(x) > 0])))\n",
    "print('Blind pan: {}'.format(stats.kruskal([np.median(x) for x in p_err_b['lo'] if len(x) > 0], [np.median(x) for x in p_err_b['med'] if len(x) > 0], [np.median(x) for x in p_err_b['hi'] if len(x) > 0])))\n",
    "print('Blind tilt: {}'.format(stats.kruskal([np.median(x) for x in t_err_b['lo'] if len(x) > 0], [np.median(x) for x in t_err_b['med'] if len(x) > 0], [np.median(x) for x in t_err_b['hi'] if len(x) > 0])))"
   ]
  },
  {
   "cell_type": "code",
   "execution_count": 136,
   "metadata": {
    "scrolled": true
   },
   "outputs": [
    {
     "data": {
      "image/png": "[encoded data removed]",
      "text/plain": [
       "<Figure size 720x504 with 3 Axes>"
      ]
     },
     "metadata": {
      "needs_background": "light"
     },
     "output_type": "display_data"
    }
   ],
   "source": [
    "f, ax = plt.subplots(1, 2, sharey=True, figsize=(10, 7))\n",
    "f.add_subplot(111, frameon=False)\n",
    "\n",
    "a = {'lo': 0, 'med': 1, 'hi': 2}\n",
    "\n",
    "ax[0].boxplot([[np.median(np.abs(x)) for x in p_err_s['lo'] if len(x) > 0], [np.median((np.abs(x))) for x in p_err_s['med'] if len(x) > 0], [np.median((np.abs(x))) for x in p_err_s['hi']]], positions=[0.8, 1.8, 2.8], showfliers=False)\n",
    "ax[0].boxplot([[np.median((np.abs(x))) for x in t_err_s['lo'] if len(x) > 0], [np.median((np.abs(x))) for x in t_err_s['med'] if len(x) > 0], [np.median((np.abs(x))) for x in t_err_s['hi']]], positions=[1.2, 2.2, 3.2], showfliers=False)\n",
    "ax[0].set_ylim([0, np.pi/3])\n",
    "ax[0].set_xlim([0.5, 3.5])\n",
    "ax[0].grid()\n",
    "\n",
    "ax[1].boxplot([[np.median((np.abs(x))) for x in p_err_b['lo']], [np.median((np.abs(x))) for x in p_err_b['med']], [np.median((np.abs(x))) for x in p_err_b['hi'] if len(x) > 0]], positions=[0.8, 1.8, 2.8], showfliers=False)\n",
    "ax[1].boxplot([[np.median((np.abs(x))) for x in t_err_b['lo']], [np.median((np.abs(x))) for x in t_err_b['med']], [np.median((np.abs(x))) for x in t_err_b['hi'] if len(x) > 0]], positions=[1.2, 2.2, 3.2], showfliers=False)\n",
    "ax[1].grid()\n",
    "ax[1].set_xlim([0.5, 3.5])\n",
    "\n",
    "plt.tick_params(labelcolor='none', top=False, bottom=False, left=False, right=False, which='both')\n",
    "plt.tight_layout()\n",
    "plt.show()"
   ]
  },
  {
   "cell_type": "code",
   "execution_count": 182,
   "metadata": {},
   "outputs": [
    {
     "name": "stdout",
     "output_type": "stream",
     "text": [
      "Sighted pan: KruskalResult(statistic=1.04925976397355, pvalue=0.5917743501857853)\n",
      "Signted tilt: KruskalResult(statistic=8.462090343775515, pvalue=0.014537188744548134)\n",
      "Blind pan: KruskalResult(statistic=4.448979591836718, pvalue=0.10812256914071945)\n",
      "Blind tilt: KruskalResult(statistic=1.3603316326530432, pvalue=0.506532993961308)\n"
     ]
    }
   ],
   "source": [
    "print('Sighted pan: {}'.format(stats.kruskal([np.median(np.abs(x)) for x in p_err_s['lo'] if len(x) > 0], [np.median(np.abs(x)) for x in p_err_s['med'] if len(x) > 0], [np.median(np.abs(x)) for x in p_err_s['hi'] if len(x) > 0])))\n",
    "print('Signted tilt: {}'.format(stats.kruskal([np.median(np.abs(x)) for x in t_err_s['lo'] if len(x) > 0], [np.median(np.abs(x)) for x in t_err_s['med'] if len(x) > 0], [np.median(np.abs(x)) for x in t_err_s['hi'] if len(x) > 0])))\n",
    "print('Blind pan: {}'.format(stats.kruskal([np.median(np.abs(x)) for x in p_err_b['lo'] if len(x) > 0], [np.median(np.abs(x)) for x in p_err_b['med'] if len(x) > 0], [np.median(np.abs(x)) for x in p_err_b['hi'] if len(x) > 0])))\n",
    "print('Blind tilt: {}'.format(stats.kruskal([np.median(np.abs(x)) for x in t_err_b['lo'] if len(x) > 0], [np.median(np.abs(x)) for x in t_err_b['med'] if len(x) > 0], [np.median(np.abs(x)) for x in t_err_b['hi'] if len(x) > 0])))"
   ]
  },
  {
   "cell_type": "code",
   "execution_count": 137,
   "metadata": {
    "scrolled": false
   },
   "outputs": [
    {
     "data": {
      "image/png": "[encoded data removed]",
      "text/plain": [
       "<Figure size 720x504 with 3 Axes>"
      ]
     },
     "metadata": {
      "needs_background": "light"
     },
     "output_type": "display_data"
    }
   ],
   "source": [
    "f, ax = plt.subplots(1, 2, sharey=True, figsize=(10, 7))\n",
    "f.add_subplot(111, frameon=False)\n",
    "\n",
    "a = {'lo': 0, 'med': 1, 'hi': 2}\n",
    "\n",
    "ax[0].boxplot([[np.std(x) for x in p_err_s['lo'] if len(x) > 0], [np.std(x) for x in p_err_s['med'] if len(x) > 0], [np.std(x) for x in p_err_s['hi']]], positions=[0.8, 1.8, 2.8], showfliers=False)\n",
    "ax[0].boxplot([[np.std(x) for x in t_err_s['lo'] if len(x) > 0], [np.std(x) for x in t_err_s['med'] if len(x) > 0], [np.std(x) for x in t_err_s['hi']]], positions=[1.2, 2.2, 3.2], showfliers=False)\n",
    "ax[0].set_ylim([0, np.pi/4])\n",
    "ax[0].set_xlim([0.5, 3.5])\n",
    "ax[0].grid()\n",
    "\n",
    "ax[1].boxplot([[np.std(x) for x in p_err_b['lo']], [np.std(x) for x in p_err_b['med']], [np.std(x) for x in p_err_b['hi'] if len(x) > 0]], positions=[0.8, 1.8, 2.8], showfliers=False)\n",
    "ax[1].boxplot([[np.std(x) for x in t_err_b['lo']], [np.std(x) for x in t_err_b['med']], [np.std(x) for x in t_err_b['hi'] if len(x) > 0]], positions=[1.2, 2.2, 3.2], showfliers=False)\n",
    "ax[1].grid()\n",
    "ax[1].set_xlim([0.5, 3.5])\n",
    "\n",
    "plt.tick_params(labelcolor='none', top=False, bottom=False, left=False, right=False, which='both')\n",
    "plt.tight_layout()\n",
    "plt.show()"
   ]
  },
  {
   "cell_type": "markdown",
   "metadata": {},
   "source": [
    "## Fitts Relationship"
   ]
  },
  {
   "cell_type": "code",
   "execution_count": 187,
   "metadata": {},
   "outputs": [],
   "source": [
    "#def func_fitts(x, a, b):\n",
    "#    return a + b*x"
   ]
  },
  {
   "cell_type": "code",
   "execution_count": 185,
   "metadata": {},
   "outputs": [],
   "source": [
    "def fitts_id(x, we):\n",
    "    return np.log2(2*np.array(x)/we)"
   ]
  },
  {
   "cell_type": "code",
   "execution_count": 205,
   "metadata": {
    "scrolled": true
   },
   "outputs": [
    {
     "name": "stdout",
     "output_type": "stream",
     "text": [
      "Warning: The length of the vector seems to be zero\n",
      "Warning: The length of the vector seems to be zero\n"
     ]
    },
    {
     "name": "stderr",
     "output_type": "stream",
     "text": [
      "/home/jaycee/.local/lib/python3.6/site-packages/numpy/core/fromnumeric.py:2920: RuntimeWarning: Mean of empty slice.\n",
      "  out=out, **kwargs)\n",
      "/home/jaycee/.local/lib/python3.6/site-packages/numpy/core/_methods.py:85: RuntimeWarning: invalid value encountered in double_scalars\n",
      "  ret = ret.dtype.type(ret / rcount)\n",
      "/home/jaycee/.local/lib/python3.6/site-packages/numpy/core/_methods.py:140: RuntimeWarning: Degrees of freedom <= 0 for slice\n",
      "  keepdims=keepdims)\n",
      "/home/jaycee/.local/lib/python3.6/site-packages/numpy/core/_methods.py:110: RuntimeWarning: invalid value encountered in true_divide\n",
      "  arrmean, rcount, out=arrmean, casting='unsafe', subok=False)\n",
      "/home/jaycee/.local/lib/python3.6/site-packages/numpy/core/_methods.py:132: RuntimeWarning: invalid value encountered in double_scalars\n",
      "  ret = ret.dtype.type(ret / rcount)\n"
     ]
    },
    {
     "name": "stdout",
     "output_type": "stream",
     "text": [
      "Warning: The length of the vector seems to be zero\n",
      "Warning: The length of the vector seems to be zero\n"
     ]
    },
    {
     "data": {
      "image/png": "[encoded data removed]",
      "text/plain": [
       "<Figure size 720x720 with 7 Axes>"
      ]
     },
     "metadata": {
      "needs_background": "light"
     },
     "output_type": "display_data"
    }
   ],
   "source": [
    "f, ax = plt.subplots(3, 2, sharex=True, sharey=True, figsize=(10, 10))\n",
    "f.add_subplot(111, frameon=False)\n",
    "\n",
    "tests = {'lo': ax[0, 0], 'med': ax[1, 0], 'hi': ax[2, 0]}\n",
    "x = np.arange(1e-5, 2, 0.01)\n",
    "step = 0.3\n",
    "\n",
    "for test in tests.keys():\n",
    "    timediff = []\n",
    "    anglediff = []\n",
    "    for dset in data_s[test]:\n",
    "        timel = []\n",
    "        ang_distl = []\n",
    "        df = pd.DataFrame(dset.data)\n",
    "        for time, qx, qy, qz, qw in df[['time', 'qx', 'qy', 'qz', 'qw']].iloc[[0]+dset.target_indices].itertuples(index=False):\n",
    "            timel.append(time)\n",
    "            ang_distl.append(get_tango_angle(qx, qy, qz, qw))\n",
    "\n",
    "        a, t = reject_outliers_with_time(np.abs(np.diff([np.sqrt(i**2 + y**2) for i, y in ang_distl])), np.diff(timel), m=3)\n",
    "        timediff+=t.tolist()\n",
    "        anglediff+=a.tolist()\n",
    "            \n",
    "    we = 4.133*np.std(anglediff)\n",
    "\n",
    "    ids = [fitts_id(x, we) for x in anglediff]\n",
    "\n",
    "    bins = np.arange(1e-5, np.max(ids), step)\n",
    "    ind = np.digitize(np.power(2, ids), bins)\n",
    "\n",
    "    timebox = [[] for i in range(len(bins))]\n",
    "    for i in range(len(timediff)):\n",
    "        timebox[ind[i]-1].append(timediff[i])\n",
    "    fmedians = [np.median(t) for t in timebox if len(t) > 0].copy()\n",
    "    fx = (bins+step).copy()\n",
    "    fopt, pconv = sp.optimize.curve_fit(func_fitts, fitts_id(bins+step, we), [np.median(t) for t in timebox if len(t) > 0])\n",
    "\n",
    "    tests[test].boxplot(timebox, positions=np.round(bins+step, 2), showfliers=False, medianprops=dict(linestyle=None, linewidth=0), widths=0.08)\n",
    "    tests[test].plot(x, fopt[0]+fopt[1]*fitts_id(x, we), 'k')\n",
    "    tests[test].plot(bins+step, [np.median(t) for t in timebox if len(t) > 0], 'kx', label='Medians')\n",
    "    #tests[test].set_title(test, fontsize=22)\n",
    "    tests[test].set_xticks([0, 0.6, 1.2, 1.8])\n",
    "    tests[test].grid()\n",
    "    tests[test].tick_params(axis='both', which='major', labelsize=16)\n",
    "    \n",
    "tests = {'lo': ax[0, 1], 'med': ax[1, 1], 'hi': ax[2, 1]}\n",
    "\n",
    "for test in tests.keys():\n",
    "    timediff = []\n",
    "    anglediff = []\n",
    "    for dset in data_b[test]:\n",
    "        timel = []\n",
    "        ang_distl = []\n",
    "        df = pd.DataFrame(dset.data)\n",
    "        for time, qx, qy, qz, qw in df[['time', 'qx', 'qy', 'qz', 'qw']].iloc[[0]+dset.target_indices].itertuples(index=False):\n",
    "            timel.append(time)\n",
    "            ang_distl.append(get_tango_angle(qx, qy, qz, qw))\n",
    "\n",
    "        a, t = reject_outliers_with_time(np.abs(np.diff([np.sqrt(i**2 + y**2) for i, y in ang_distl])), np.diff(timel), m=3)\n",
    "        timediff+=t.tolist()\n",
    "        anglediff+=a.tolist()\n",
    "\n",
    "    we = 4.133*np.std(anglediff)\n",
    "\n",
    "    ids = [fitts_id(x, we) for x in anglediff]\n",
    "\n",
    "    bins = np.arange(1e-5, np.max(ids), step)\n",
    "    ind = np.digitize(np.power(2, ids), bins)\n",
    "\n",
    "    timebox = [[] for i in range(len(bins))]\n",
    "    for i in range(len(timediff)):\n",
    "        timebox[ind[i]-1].append(timediff[i])\n",
    "    fmedians = [np.median(t) for t in timebox if len(t) > 0].copy()\n",
    "    fx = (bins+step).copy()\n",
    "    fopt, pconv = sp.optimize.curve_fit(func_fitts, fitts_id(bins+step, we), [np.median(t) for t in timebox if len(t) > 0])\n",
    "\n",
    "    tests[test].boxplot(timebox, positions=np.round(bins+step, 2), showfliers=False, medianprops=dict(linestyle=None, linewidth=0), widths=0.08)\n",
    "    tests[test].plot(x, fopt[0]+fopt[1]*fitts_id(x, we), 'k')\n",
    "    tests[test].plot(bins+step, [np.median(t) for t in timebox if len(t) > 0], 'kx', label='Medians')\n",
    "    #tests[test].set_title(test, fontsize=22)\n",
    "    tests[test].set_xticks([0, 0.6, 1.2, 1.8])\n",
    "    tests[test].grid()\n",
    "    tests[test].tick_params(axis='both', which='major', labelsize=16)\n",
    "    \n",
    "    tests[test].yaxis.set_label_position('right')\n",
    "    tests[test].yaxis.tick_right()\n",
    "    tests[test].set_ylabel(test, fontsize=22, rotation=0, labelpad=24)\n",
    "\n",
    "ax[0, 0].set_title('Blindfolded', fontsize=22)\n",
    "ax[0, 1].set_title('Blind', fontsize=22)\n",
    "ax[0, 0].set_ylim((0, 50))\n",
    "ax[1, 0].set_ylim((0, 50))\n",
    "\n",
    "ax[1, 0].set_xticklabels([0, 0.6, 1.2, 1.8])\n",
    "ax[1, 1].set_xticklabels([0, 0.6, 1.2, 1.8])\n",
    "\n",
    "ax[1, 0].set_xlim((-0.05, 2))\n",
    "ax[1, 1].set_xlim((-0.05, 2))\n",
    "\n",
    "plt.tick_params(labelcolor='none', top=False, bottom=False, left=False, right=False, which='both')\n",
    "plt.ylabel('Time [s]', fontsize=22)\n",
    "plt.xlabel('ID', fontsize=22)\n",
    "\n",
    "plt.tight_layout()\n",
    "plt.show()"
   ]
  }
 ],
 "metadata": {
  "kernelspec": {
   "display_name": "Python 3",
   "language": "python",
   "name": "python3"
  },
  "language_info": {
   "codemirror_mode": {
    "name": "ipython",
    "version": 3
   },
   "file_extension": ".py",
   "mimetype": "text/x-python",
   "name": "python",
   "nbconvert_exporter": "python",
   "pygments_lexer": "ipython3",
   "version": "3.6.8"
  }
 },
 "nbformat": 4,
 "nbformat_minor": 2
}
