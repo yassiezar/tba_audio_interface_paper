{
 "cells": [
  {
   "cell_type": "code",
   "execution_count": 1,
   "metadata": {},
   "outputs": [],
   "source": [
    "%matplotlib inline\n",
    "#%load_ext autoreload\n",
    "#%autoreload 2\n",
    "import glob\n",
    "\n",
    "import matplotlib.pyplot as plt\n",
    "import numpy as np\n",
    "import pandas as pd\n",
    "import scipy as sp\n",
    "import scipy.stats as stats\n",
    "\n",
    "from DataClass import Data, MassData, Utils\n",
    "from geo import Vector, Quaternion"
   ]
  },
  {
   "cell_type": "markdown",
   "metadata": {},
   "source": [
    "# Util"
   ]
  },
  {
   "cell_type": "code",
   "execution_count": 2,
   "metadata": {},
   "outputs": [],
   "source": [
    "def reject_outliers(data, m=3):\n",
    "    return data[np.abs(data - np.mean(data)) < m*np.std(data)]"
   ]
  },
  {
   "cell_type": "code",
   "execution_count": 3,
   "metadata": {},
   "outputs": [],
   "source": [
    "def reject_outliers_with_time(data, time, m=3):\n",
    "    return data[np.abs(data - np.mean(data)) < m*np.std(data)], time[np.abs(data - np.mean(data)) < m*np.std(data)]"
   ]
  },
  {
   "cell_type": "code",
   "execution_count": 4,
   "metadata": {},
   "outputs": [],
   "source": [
    "def rad_to_hz(rad, key):\n",
    "    if key == 'lo':\n",
    "        hi = 10\n",
    "        lo = 8\n",
    "    if key == 'med':\n",
    "        hi = 11\n",
    "        lo = 7\n",
    "    if key == 'hi':\n",
    "        hi = 12\n",
    "        lo = 6\n",
    "\n",
    "    m = (hi - lo) / np.pi\n",
    "    c = (hi - np.pi) / 2 * m\n",
    "\n",
    "    return m * rad + c\n"
   ]
  },
  {
   "cell_type": "markdown",
   "metadata": {},
   "source": [
    "## Target/Actual Difference"
   ]
  },
  {
   "cell_type": "code",
   "execution_count": 5,
   "metadata": {},
   "outputs": [],
   "source": [
    "def get_tango_angle(qx, qy, qz, qw):\n",
    "    tango_orientation = Quaternion(x=qx, y=qy, z=qz, w=qw)\n",
    "    tango_orientation.normalise()\n",
    "\n",
    "    # Rotate Tango orientation to fall onto the world axis system\n",
    "    rotate = Quaternion(vector=Vector(1, 0, 0), angle=np.pi/2)\n",
    "    rotate.normalise()\n",
    "    tango_orientation = tango_orientation.multiply(rotate)\n",
    "    tango_orientation.normalise()\n",
    "\n",
    "    tango_forward_vector = Vector(0.0, 0.0, -1.0)\n",
    "    tango_forward_facing_vector = tango_forward_vector.rotate_vector(tango_orientation)\n",
    "\n",
    "    tilt = np.arctan2(tango_forward_facing_vector.y, tango_forward_facing_vector.z)\n",
    "    pan = np.arctan2(tango_forward_facing_vector.x, tango_forward_facing_vector.z)\n",
    "        \n",
    "    if tilt < -np.pi/2:\n",
    "        tilt += np.pi\n",
    "    elif tilt > np.pi/2:\n",
    "        tilt -= np.pi\n",
    "    if pan < -np.pi/2:\n",
    "        pan += np.pi\n",
    "    elif pan > np.pi/2:\n",
    "        pan -= np.pi\n",
    "\n",
    "    return pan, tilt"
   ]
  },
  {
   "cell_type": "code",
   "execution_count": 6,
   "metadata": {},
   "outputs": [],
   "source": [
    "def get_target_tango_angle_bak(sample, tilt=True):\n",
    "    \n",
    "    tango_orientation = Quaternion(x=sample['qx'], y=sample['qy'], z=sample['qz'], w=sample['qw'])\n",
    "    tango_orientation.normalise()\n",
    "\n",
    "    # Rotate Tango orientation to fall onto the world axis system\n",
    "    rotate = Quaternion(vector=Vector(1, 0, 0), angle=np.pi/2)\n",
    "    rotate.normalise()\n",
    "    tango_orientation = tango_orientation.multiply(rotate)\n",
    "    tango_orientation.normalise()\n",
    "\n",
    "    tango_forward_vector = Vector(0.0, 0.0, -1.0)\n",
    "    tango_forward_facing_vector = tango_forward_vector.rotate_vector(tango_orientation)\n",
    "    #tango_forward_facing_vector.normalise()\n",
    "\n",
    "    vector_to_target = Vector(sample['tx'] - sample['x'], sample['ty'] - sample['z'], sample['tz'] - sample['y'])\n",
    "    #vector_to_target.normalise()\n",
    "    #rotate = Quaternion(vector=Vector(0, 0, 1), angle=math.pi)\n",
    "    #rotate.normalise()\n",
    "    #vector_to_target = vector_to_target.rotate_vector(rotate)\n",
    "    #vector_to_target.normalise()\n",
    "\n",
    "    if tilt:\n",
    "        tango = np.arctan2(tango_forward_facing_vector.y, tango_forward_facing_vector.z)\n",
    "        target = np.arctan2(vector_to_target.y, -vector_to_target.z)\n",
    "    else:\n",
    "        tango = np.arctan2(tango_forward_facing_vector.x, tango_forward_facing_vector.z)\n",
    "        #tango = math.atan2(tango_forward_facing_vector.y, np.abs(tango_forward_facing_vector.z))\n",
    "        target = np.arctan2(vector_to_target.x, -vector_to_target.z)\n",
    "        \n",
    "    if tango < -np.pi/2:\n",
    "        tango += np.pi\n",
    "    elif tango > np.pi/2:\n",
    "        tango -= np.pi\n",
    "    if target < -np.pi/2:\n",
    "        target += np.pi\n",
    "    elif target > np.pi/2:\n",
    "        target -= np.pi\n",
    "\n",
    "    return target, tango"
   ]
  },
  {
   "cell_type": "code",
   "execution_count": 7,
   "metadata": {},
   "outputs": [],
   "source": [
    "def get_target_tango_angle(sample, tilt=True):\n",
    "    \n",
    "    tango_orientation = Quaternion(x=sample['qx'], y=sample['qy'], z=sample['qz'], w=sample['qw'])\n",
    "    tango_orientation.normalise()\n",
    "\n",
    "    # Rotate Tango orientation to fall onto the world axis system\n",
    "    rotate = Quaternion(vector=Vector(1, 0, 0), angle=np.pi/2)\n",
    "    rotate.normalise()\n",
    "    tango_orientation = tango_orientation.multiply(rotate)\n",
    "    tango_orientation.normalise()\n",
    "\n",
    "    tango_forward_vector = Vector(0.0, 0.0, -1.0)\n",
    "    tango_forward_facing_vector = tango_forward_vector.rotate_vector(tango_orientation)\n",
    "    tango_forward_facing_vector.normalise()\n",
    "\n",
    "    vector_to_target = Vector(sample['tx'] - sample['x'], sample['ty'] - sample['z'], sample['tz'] - sample['y'])\n",
    "    vector_to_target.normalise()\n",
    "    rotate = Quaternion(vector=Vector(0, 0, 1), angle=np.pi)\n",
    "    rotate.normalise()\n",
    "    vector_to_target = vector_to_target.rotate_vector(rotate)\n",
    "    vector_to_target.normalise()\n",
    "\n",
    "    if tilt:\n",
    "        tango = np.arctan2(tango_forward_facing_vector.y, -tango_forward_facing_vector.z)\n",
    "        target = np.arctan2(sample['ty'], -sample['tz'])\n",
    "    else:\n",
    "        tango = np.arctan2(tango_forward_facing_vector.x, -tango_forward_facing_vector.z)\n",
    "        target = np.arctan2(sample['tx'], -sample['tz'])\n",
    "        \n",
    "    if tango < -np.pi/2:\n",
    "        tango += np.pi\n",
    "    elif tango > np.pi/2:\n",
    "        tango -= np.pi\n",
    "    if target < -np.pi/2:\n",
    "        target += np.pi\n",
    "    elif target > np.pi/2:\n",
    "        target -= np.pi\n",
    "\n",
    "    return target, -tango"
   ]
  },
  {
   "cell_type": "code",
   "execution_count": 8,
   "metadata": {},
   "outputs": [],
   "source": [
    "def get_guesses_actual(data):\n",
    "    pans = []\n",
    "    tilts = []\n",
    "    for sample in [data.get(i) for i in data.target_indices]:\n",
    "        target, tango = get_target_tango_angle(sample, False)\n",
    "        pans.append((target, tango))\n",
    "        target, tango = get_target_tango_angle(sample, True)\n",
    "        tilts.append((target, tango))\n",
    "        \n",
    "    return pans, tilts"
   ]
  },
  {
   "cell_type": "markdown",
   "metadata": {},
   "source": [
    "## Angle errors"
   ]
  },
  {
   "cell_type": "code",
   "execution_count": 9,
   "metadata": {},
   "outputs": [],
   "source": [
    "def get_angle_diff(sample, tilt=True):\n",
    "    tango_orientation = Quaternion(x=sample['qx'], y=sample['qy'], z=sample['qz'], w=sample['qw'])\n",
    "    tango_orientation.normalise()\n",
    "\n",
    "    # Rotate Tango orientation to fall onto the world axis system\n",
    "    rotate = Quaternion(vector=Vector(1, 0, 0), angle=-np.pi/2)\n",
    "    rotate.normalise()\n",
    "    tango_orientation = tango_orientation.multiply(rotate)\n",
    "    tango_orientation.normalise()\n",
    "\n",
    "    tango_forward_vector = Vector(0.0, 0.0, -1.0)\n",
    "    tango_forward_facing_vector = tango_forward_vector.rotate_vector(tango_orientation)\n",
    "    tango_forward_facing_vector.normalise()\n",
    "\n",
    "    vector_to_target = Vector(sample['tx'] - sample['x'], sample['ty'] - sample['z'], sample['tz'] - sample['y'])\n",
    "    vector_to_target.normalise()\n",
    "    rotate = Quaternion(vector=Vector(0, 0, 1), angle=np.pi)\n",
    "    rotate.normalise()\n",
    "    vector_to_target = vector_to_target.rotate_vector(rotate)\n",
    "    vector_to_target.normalise()\n",
    "\n",
    "    if tilt:\n",
    "        tango = Vector(0, tango_forward_facing_vector.y, tango_forward_facing_vector.z)\n",
    "        tango.normalise()\n",
    "        target = Vector(0, vector_to_target.y, vector_to_target.z)\n",
    "        target.normalise()\n",
    "\n",
    "        angle = tango.inv_dot_product(target)\n",
    "        \n",
    "        # Test to see if rotation is positive or negative\n",
    "        test = tango.cross_product(target)\n",
    "        if test.x < 0:\n",
    "            angle = -angle\n",
    "\n",
    "    else:\n",
    "        tango = Vector(tango_forward_facing_vector.x, 0, tango_forward_facing_vector.z)\n",
    "        tango.normalise()\n",
    "        target = Vector(vector_to_target.x, 0, vector_to_target.z)\n",
    "        target.normalise()\n",
    "\n",
    "        angle = tango.inv_dot_product(target)\n",
    "        \n",
    "        # Test to see if rotation is positive or negative\n",
    "        test = tango.cross_product(target)\n",
    "        if test.y < 0:\n",
    "            angle = -angle\n",
    "\n",
    "    return angle"
   ]
  },
  {
   "cell_type": "code",
   "execution_count": 10,
   "metadata": {},
   "outputs": [],
   "source": [
    "def get_error(data):\n",
    "    pans = []\n",
    "    tilts = []\n",
    "    for sample in [data.get(i) for i in data.target_indices]:\n",
    "        tilt = get_angle_diff(sample, tilt=True)\n",
    "        if tilt < -np.pi/2:\n",
    "            tilt += np.pi\n",
    "        elif tilt > np.pi/2:\n",
    "            tilt -= np.pi\n",
    "        tilts.append(tilt)\n",
    "\n",
    "        pan = get_angle_diff(sample, tilt=False)\n",
    "        if pan < -np.pi/2:\n",
    "            pan += np.pi\n",
    "        elif pan > np.pi/2:\n",
    "            pan -= np.pi\n",
    "        pans.append(pan)\n",
    "    return (pans, tilts)"
   ]
  },
  {
   "cell_type": "markdown",
   "metadata": {},
   "source": [
    "# Data import"
   ]
  },
  {
   "cell_type": "markdown",
   "metadata": {},
   "source": [
    "## Sighted"
   ]
  },
  {
   "cell_type": "code",
   "execution_count": 11,
   "metadata": {},
   "outputs": [],
   "source": [
    "participant_list = glob.glob('/home/jaycee/workspace/data_processing/target_search/input/cleaned/sighted/*/*/')\n",
    "data_s = {'med': [], 'lo': [], 'hi': []}\n",
    "\n",
    "# Import data\n",
    "for p in participant_list:\n",
    "    for test in data_s.keys():\n",
    "        for f in glob.glob(p + 'target/' + test + '/*.csv'):\n",
    "            data_s[test].append(Data(f, 'target', test))"
   ]
  },
  {
   "cell_type": "code",
   "execution_count": 12,
   "metadata": {},
   "outputs": [],
   "source": [
    "p_err_s = {'med': [], 'lo': [], 'hi': []}\n",
    "t_err_s = {'med': [], 'lo': [], 'hi': []}\n",
    "\n",
    "t_corr_s = {'med': [], 'lo': [], 'hi': []}\n",
    "p_corr_s = {'med': [], 'lo': [], 'hi': []}\n",
    "\n",
    "for test in data_s.keys():\n",
    "    pe = []\n",
    "    te = []\n",
    "    pc = []\n",
    "    tc = []\n",
    "    for sample in data_s[test]:\n",
    "        angles = get_error(sample)\n",
    "        pe.append(angles[0])\n",
    "        te.append(angles[1])\n",
    "\n",
    "        angles = get_guesses_actual(sample)\n",
    "        pc.append(angles[0])\n",
    "        tc.append(angles[1])\n",
    "    p_err_s[test] += pe\n",
    "    t_err_s[test] += te\n",
    "    p_corr_s[test] += pc\n",
    "    t_corr_s[test] += tc"
   ]
  },
  {
   "cell_type": "markdown",
   "metadata": {},
   "source": [
    "## Blind"
   ]
  },
  {
   "cell_type": "code",
   "execution_count": 13,
   "metadata": {},
   "outputs": [],
   "source": [
    "participant_list = glob.glob('/home/jaycee/workspace/data_processing/target_search/input/cleaned/blind/*/*/')\n",
    "#print(participant_list)\n",
    "participant_list = list(filter(lambda x: 'day8' not in x, participant_list))\n",
    "#print(participant_list)\n",
    "data_b = {'med': [], 'lo': [], 'hi': []}\n",
    "\n",
    "# Import data\n",
    "for p in participant_list:\n",
    "    for test in data_b.keys():\n",
    "        for f in glob.glob(p + 'target/' + test + '/*.csv'):\n",
    "            data_b[test].append(Data(f, 'target', test))"
   ]
  },
  {
   "cell_type": "code",
   "execution_count": 14,
   "metadata": {},
   "outputs": [],
   "source": [
    "p_err_b = {'med': [], 'lo': [], 'hi': []}\n",
    "t_err_b = {'med': [], 'lo': [], 'hi': []}\n",
    "\n",
    "t_corr_b = {'med': [], 'lo': [], 'hi': []}\n",
    "p_corr_b = {'med': [], 'lo': [], 'hi': []}\n",
    "\n",
    "for test in data_b.keys():\n",
    "    pe = []\n",
    "    te = []\n",
    "    pc = []\n",
    "    tc = []\n",
    "    \n",
    "    for sample in data_b[test]:\n",
    "        angles = get_error(sample)\n",
    "        pe.append(angles[0])\n",
    "        te.append(angles[1])\n",
    "\n",
    "        angles = get_guesses_actual(sample)\n",
    "        pc.append(angles[0])\n",
    "        tc.append(angles[1])\n",
    "    p_err_b[test] += pe\n",
    "    t_err_b[test] += te\n",
    "    p_corr_b[test] += pc\n",
    "    t_corr_b[test] += tc"
   ]
  },
  {
   "cell_type": "markdown",
   "metadata": {},
   "source": [
    "# Results"
   ]
  },
  {
   "cell_type": "markdown",
   "metadata": {},
   "source": [
    "## Combined"
   ]
  },
  {
   "cell_type": "code",
   "execution_count": 15,
   "metadata": {},
   "outputs": [
    {
     "name": "stdout",
     "output_type": "stream",
     "text": [
      "(0.4968227098507787, 3.784396772212948e-73)\n"
     ]
    }
   ],
   "source": [
    "tmp1 = []\n",
    "tmp2 = []\n",
    "for d in t_corr_s['lo']:\n",
    "    f, p = stats.pearsonr([x[0] for x in d], [x[1] for x in d])\n",
    "    if p < 0.05:\n",
    "        tmp1.append([x[0] for x in d])\n",
    "        tmp2.append([x[1] for x in d])\n",
    "print(stats.pearsonr([x for x in [item for sublist in tmp1 for item in sublist]], [x for x in [item for sublist in tmp2 for item in sublist]]))"
   ]
  },
  {
   "cell_type": "code",
   "execution_count": 16,
   "metadata": {},
   "outputs": [
    {
     "name": "stdout",
     "output_type": "stream",
     "text": [
      "lo\n",
      "(0.7458660132763472, 3.2182359345892953e-271)\n",
      "(0.36387651628402184, 5.555652098279734e-49)\n",
      "(0.20870276339551694, 0.002095931119919269)\n",
      "(0.08662874100348941, 0.2057990549300366)\n",
      "med\n",
      "(0.7675640627299861, 1.9985945112275611e-292)\n",
      "(0.4876200930383374, 1.1741110332603201e-90)\n",
      "(0.24436372920321373, 0.00035106921084866174)\n",
      "(0.4651012036449094, 1.1432044929370507e-12)\n",
      "hi\n",
      "(0.7148909202626925, 9.930795578487454e-244)\n",
      "(0.48192251059865165, 2.7438395260850807e-91)\n",
      "(0.48055066952358483, 9.482378028026823e-15)\n",
      "(0.5388821031450899, 8.453932901712569e-19)\n"
     ]
    }
   ],
   "source": [
    "for test in ['lo', 'med', 'hi']:\n",
    "    print(test)\n",
    "    #print([x[0] for x in [item for sublist in p_corr_s[test] for item in sublist]])\n",
    "    print(stats.pearsonr([x[0] for x in [item for sublist in p_corr_s[test] for item in sublist]], [x[1] for x in [item for sublist in p_corr_s[test] for item in sublist]]))\n",
    "    print(stats.pearsonr([x[0] for x in [item for sublist in t_corr_s[test] for item in sublist]], [x[1] for x in [item for sublist in t_corr_s[test] for item in sublist]]))\n",
    "    print(stats.pearsonr([x[0] for x in [item for sublist in p_corr_b[test] for item in sublist]], [x[1] for x in [item for sublist in p_corr_b[test] for item in sublist]]))\n",
    "    print(stats.pearsonr([x[0] for x in [item for sublist in t_corr_b[test] for item in sublist]], [x[1] for x in [item for sublist in t_corr_b[test] for item in sublist]]))"
   ]
  },
  {
   "cell_type": "code",
   "execution_count": 17,
   "metadata": {},
   "outputs": [
    {
     "name": "stdout",
     "output_type": "stream",
     "text": [
      "lo\n",
      "(0.9481406211853027, 9.018104513926632e-23)\n",
      "(0.9687983989715576, 1.1967666473210068e-17)\n",
      "(0.9859747290611267, 0.032116614282131195)\n",
      "(0.956031084060669, 3.575347818696173e-06)\n",
      "med\n",
      "(0.9503839612007141, 3.9105337062969096e-22)\n",
      "(0.9760921597480774, 4.089843952192291e-15)\n",
      "(0.9749287366867065, 0.0008425751584582031)\n",
      "(0.9285790920257568, 1.3850812052851325e-08)\n",
      "hi\n",
      "(0.9259987473487854, 5.07647130319084e-27)\n",
      "(0.9727762937545776, 1.4165449461124878e-16)\n",
      "(0.9704338312149048, 9.530883835395798e-05)\n",
      "(0.9702892899513245, 9.112155385082588e-05)\n"
     ]
    }
   ],
   "source": [
    "for test in ['lo', 'med', 'hi']:\n",
    "    print(test)\n",
    "    print(stats.shapiro([item for sublist in p_err_s[test] for item in sublist]))\n",
    "    print(stats.shapiro([item for sublist in t_err_s[test] for item in sublist]))\n",
    "    print(stats.shapiro([item for sublist in p_err_b[test] for item in sublist]))\n",
    "    print(stats.shapiro([item for sublist in t_err_b[test] for item in sublist]))"
   ]
  },
  {
   "cell_type": "code",
   "execution_count": 18,
   "metadata": {
    "scrolled": true
   },
   "outputs": [
    {
     "name": "stdout",
     "output_type": "stream",
     "text": [
      "lo\n",
      "pan sight -0.01547664955670045 0.3659481442588174\n",
      "tilt sight -0.11688101670768399 0.5131318669500585\n",
      "pan blind -0.0030231925000366766 0.5682018018235498\n",
      "tilt blind -0.15097177482041702 0.6084560087885363\n",
      "med\n",
      "pan sight -0.01413264860815143 0.36752147270084246\n",
      "tilt sight -0.11052261834891448 0.4068300347017708\n",
      "pan blind 0.049922512505569575 0.5223160721627323\n",
      "tilt blind -0.3311756431034342 0.4273426936675097\n",
      "hi\n",
      "pan sight -0.03415490028400547 0.3895269418777683\n",
      "tilt sight -0.14916376088292826 0.44473856943079915\n",
      "pan blind 0.021012020663925803 0.4208006064240978\n",
      "tilt blind -0.2740298697794093 0.40285045025890837\n"
     ]
    }
   ],
   "source": [
    "a = {'lo': 0, 'med': 1, 'hi': 2}\n",
    "\n",
    "for test in a:\n",
    "    print(test)\n",
    "    print('pan sight {} {}'.format(np.mean([item for sublist in p_err_s[test] for item in sublist]), np.std([item for sublist in p_err_s[test] for item in sublist])))\n",
    "    print('tilt sight {} {}'.format(np.mean([item for sublist in t_err_s[test] for item in sublist]), np.std([item for sublist in t_err_s[test] for item in sublist])))\n",
    "    print('pan blind {} {}'.format(np.mean([item for sublist in p_err_b[test] for item in sublist]), np.std([item for sublist in p_err_b[test] for item in sublist])))\n",
    "    print('tilt blind {} {}'.format(np.mean([item for sublist in t_err_b[test] for item in sublist]), np.std([item for sublist in t_err_b[test] for item in sublist])))"
   ]
  },
  {
   "cell_type": "code",
   "execution_count": 19,
   "metadata": {
    "scrolled": true
   },
   "outputs": [
    {
     "name": "stdout",
     "output_type": "stream",
     "text": [
      "lo\n",
      "pan sight 0.25244103495414455 0.265388573301967\n",
      "tilt sight 0.42410745558674917 0.3116060831595046\n",
      "pan blind 0.4775714618707361 0.30787647863237133\n",
      "tilt blind 0.4903060479141739 0.3906547974901702\n",
      "med\n",
      "pan sight 0.25511057436265067 0.2649346325062771\n",
      "tilt sight 0.3435660654130528 0.24431186012704711\n",
      "pan blind 0.44972400558782377 0.27028624695388476\n",
      "tilt blind 0.4229680962782316 0.33674482022259056\n",
      "hi\n",
      "pan sight 0.2606333677860104 0.29149278423072317\n",
      "tilt sight 0.3624664649492282 0.29775876895114795\n",
      "pan blind 0.3619784116550333 0.21560678299851546\n",
      "tilt blind 0.36565603092055515 0.32198838776662614\n"
     ]
    }
   ],
   "source": [
    "a = {'lo': 0, 'med': 1, 'hi': 2}\n",
    "\n",
    "for test in a:\n",
    "    print(test)\n",
    "    print('pan sight {} {}'.format(np.mean(np.abs([item for sublist in p_err_s[test] for item in sublist])), np.std(np.abs([item for sublist in p_err_s[test] for item in sublist]))))\n",
    "    print('tilt sight {} {}'.format(np.mean(np.abs([item for sublist in t_err_s[test] for item in sublist])), np.std(np.abs([item for sublist in t_err_s[test] for item in sublist]))))\n",
    "    print('pan blind {} {}'.format(np.mean(np.abs([item for sublist in p_err_b[test] for item in sublist])), np.std(np.abs([item for sublist in p_err_b[test] for item in sublist]))))\n",
    "    print('tilt blind {} {}'.format(np.mean(np.abs([item for sublist in t_err_b[test] for item in sublist])), np.std(np.abs([item for sublist in t_err_b[test] for item in sublist]))))"
   ]
  },
  {
   "cell_type": "code",
   "execution_count": 20,
   "metadata": {},
   "outputs": [
    {
     "data": {
      "image/png": "[encoded data removed]",
      "text/plain": [
       "<Figure size 720x720 with 7 Axes>"
      ]
     },
     "metadata": {
      "needs_background": "light"
     },
     "output_type": "display_data"
    }
   ],
   "source": [
    "f, ax = plt.subplots(3, 2, sharey=True, sharex=True, figsize=(10, 10))\n",
    "f.add_subplot(111, frameon=False)\n",
    "\n",
    "bins = 30\n",
    "a = {'lo': 0, 'med': 1, 'hi': 2}\n",
    "\n",
    "for test in a:\n",
    "    ax[a[test], 0].hist2d([item for sublist in p_err_s[test] for item in sublist], [item for sublist in t_err_s[test] for item in sublist], bins=bins, cmap='Greys')\n",
    "    ax[a[test], 0].grid()\n",
    "    ax[a[test], 0].tick_params(axis='both', which='major', labelsize=22)\n",
    "    \n",
    "    ax[a[test], 1].yaxis.set_label_position('right')\n",
    "    ax[a[test], 1].yaxis.tick_right()\n",
    "    ax[a[test], 1].set_ylabel(test, fontsize=22, rotation=0, labelpad=24)\n",
    "\n",
    "    ax[a[test], 1].hist2d([item for sublist in p_err_b[test] for item in sublist], [item for sublist in t_err_b[test] for item in sublist], bins=bins, cmap='Greys')\n",
    "    ax[a[test], 1].grid()\n",
    "    ax[a[test], 1].tick_params(axis='both', which='major', labelsize=22)\n",
    "    ax[a[test], 1].set_xticks([-np.pi/2, -np.pi/4, 0, np.pi/4, np.pi/2])\n",
    "    ax[a[test], 1].set_yticks([-np.pi/2, -np.pi/4, 0, np.pi/4, np.pi/2])\n",
    "\n",
    "ax[0, 0].set_title(r'$G1$', fontsize=22)\n",
    "\n",
    "ax[0, 1].set_title(r'$G2$', fontsize=22)\n",
    "ax[0, 1].set_xlim([-np.pi/2-0.2, np.pi/2+0.2])\n",
    "ax[0, 1].set_ylim([-np.pi/2-0.2, np.pi/2+0.2])\n",
    "\n",
    "#ax[1, 0].set_xticklabels([r'$-\\frac{\\pi}{2}$', r'$-\\frac{\\pi}{4}$', 0, r'$\\frac{\\pi}{4}$', r'$\\frac{\\pi}{2}$'])\n",
    "#ax[1, 0].set_yticklabels([r'$-\\frac{\\pi}{2}$', r'$-\\frac{\\pi}{4}$', 0, r'$\\frac{\\pi}{4}$', r'$\\frac{\\pi}{2}$'])\n",
    "ax[1, 0].set_xticklabels([r'$-\\frac{\\pi}{2}$', '', 0, '', r'$\\frac{\\pi}{2}$'])\n",
    "ax[1, 0].set_yticklabels([r'$-\\frac{\\pi}{2}$', '', 0, '', r'$\\frac{\\pi}{2}$'])\n",
    "\n",
    "plt.xlabel('Pan Error [rad]', fontsize=22, labelpad=24)\n",
    "plt.ylabel('Tilt Error [rad]', fontsize=22, labelpad=24)\n",
    "\n",
    "f.tight_layout()\n",
    "f.text(0.55, 1.0, 'Target Errors', ha='center', fontsize=24)\n",
    "\n",
    "plt.tick_params(labelcolor='none', top=False, bottom=False, left=False, right=False, which='both')\n",
    "\n",
    "plt.show()"
   ]
  },
  {
   "cell_type": "markdown",
   "metadata": {},
   "source": [
    "## Boxplots"
   ]
  },
  {
   "cell_type": "code",
   "execution_count": 21,
   "metadata": {
    "scrolled": false
   },
   "outputs": [
    {
     "data": {
      "image/png": "[encoded data removed]",
      "text/plain": [
       "<Figure size 720x504 with 3 Axes>"
      ]
     },
     "metadata": {
      "needs_background": "light"
     },
     "output_type": "display_data"
    }
   ],
   "source": [
    "f, ax = plt.subplots(1, 2, sharey=True, figsize=(10, 7))\n",
    "f.add_subplot(111, frameon=False)\n",
    "\n",
    "a = {'lo': 0, 'med': 1, 'hi': 2}\n",
    "\n",
    "bp = ax[0].boxplot([[np.median(x) for x in p_err_s['lo'] if len(x) > 0], [np.median(x) for x in p_err_s['med'] if len(x) > 0], [np.median(x) for x in p_err_s['hi']]], positions=[0.8, 1.8, 2.8], showfliers=False, patch_artist=True)\n",
    "ax[0].boxplot([[np.median(x) for x in t_err_s['lo'] if len(x) > 0], [np.median(x) for x in t_err_s['med'] if len(x) > 0], [np.median(x) for x in t_err_s['hi']]], positions=[1.2, 2.2, 3.2], showfliers=False)\n",
    "ax[0].set_ylim([-np.pi/3, np.pi/3])\n",
    "ax[0].set_xlim([0.5, 3.5])\n",
    "ax[0].grid(axis='y')\n",
    "ax[0].set_yticks([-0.9, -0.6, -0.3, 0, 0.3, 0.6, 0.9])\n",
    "ax[0].set_xticks([1.0, 2.0, 3.0])\n",
    "ax[0].set_xticklabels(['lo', 'med', 'hi'], fontsize=22)\n",
    "ax[0].tick_params(axis='both', which='major', labelsize=22)\n",
    "ax[0].set_title(r'$G1$', fontsize=22)\n",
    "ax[0].set_ylabel('Angle Error [rad]', fontsize=24)\n",
    "\n",
    "for box in bp['boxes']:\n",
    "    box.set(hatch='/')\n",
    "    box.set(fill=False)\n",
    "\n",
    "bp0 = ax[1].boxplot([[np.median(x) for x in p_err_b['lo']], [np.median(x) for x in p_err_b['med']], [np.median(x) for x in p_err_b['hi'] if len(x) > 0]], positions=[0.8, 1.8, 2.8], showfliers=False, patch_artist=True)\n",
    "bp1 = ax[1].boxplot([[np.median(x) for x in t_err_b['lo']], [np.median(x) for x in t_err_b['med']], [np.median(x) for x in t_err_b['hi'] if len(x) > 0]], positions=[1.2, 2.2, 3.2], showfliers=False, patch_artist=True)\n",
    "ax[1].grid(axis='y')\n",
    "ax[1].set_xlim([0.5, 3.5])\n",
    "ax[1].set_xticks([1.0, 2.0, 3.0])\n",
    "ax[1].set_xticklabels(['lo', 'med', 'hi'], fontsize=22)\n",
    "ax[1].set_title(r'$G2$', fontsize=22)\n",
    "#ax[1].legend(['Pan Error', 'Tilt Error'], fontsize=18)\n",
    "\n",
    "for b0, b1 in zip(bp0['boxes'], bp1['boxes']):\n",
    "    b0.set(hatch='/')\n",
    "    b0.set(fill=False)\n",
    "    b1.set(fill=False)\n",
    "    b0.set_label('Pan')\n",
    "ax[1].legend([bp0['boxes'][0], bp1['boxes'][0]], ['Pan', 'Elevation'], fontsize=18)\n",
    "\n",
    "plt.tick_params(labelcolor='none', top=False, bottom=False, left=False, right=False, which='both')\n",
    "f.tight_layout()\n",
    "f.text(0.55, 1.0, 'Medians of the Angular Errors', ha='center', fontsize=24)\n",
    "plt.show()"
   ]
  },
  {
   "cell_type": "code",
   "execution_count": 22,
   "metadata": {},
   "outputs": [
    {
     "name": "stderr",
     "output_type": "stream",
     "text": [
      "/home/jaycee/.local/lib/python3.6/site-packages/numpy/core/fromnumeric.py:2920: RuntimeWarning: Mean of empty slice.\n",
      "  out=out, **kwargs)\n",
      "/home/jaycee/.local/lib/python3.6/site-packages/numpy/core/_methods.py:85: RuntimeWarning: invalid value encountered in double_scalars\n",
      "  ret = ret.dtype.type(ret / rcount)\n"
     ]
    },
    {
     "data": {
      "image/png": "[encoded data removed]",
      "text/plain": [
       "<Figure size 720x504 with 3 Axes>"
      ]
     },
     "metadata": {
      "needs_background": "light"
     },
     "output_type": "display_data"
    }
   ],
   "source": [
    "f, ax = plt.subplots(1, 2, sharey=True, figsize=(10, 7))\n",
    "f.add_subplot(111, frameon=False)\n",
    "\n",
    "a = {'lo': 0, 'med': 1, 'hi': 2}\n",
    "\n",
    "bp = ax[0].boxplot([[np.abs(np.median(x)) for x in p_err_s['lo'] if len(x) > 0], [np.abs(np.median(x)) for x in p_err_s['med'] if len(x) > 0], [np.abs(np.median(x)) for x in p_err_s['hi']]], positions=[0.8, 1.8, 2.8], showfliers=False, patch_artist=True)\n",
    "ax[0].boxplot([[np.abs(np.median(x)) for x in t_err_s['lo'] if len(x) > 0], [np.abs(np.median(x)) for x in t_err_s['med'] if len(x) > 0], [np.abs(np.median(x)) for x in t_err_s['hi']]], positions=[1.2, 2.2, 3.2], showfliers=False)\n",
    "ax[0].set_ylim([0, np.pi/3])\n",
    "ax[0].set_xlim([0.5, 3.5])\n",
    "ax[0].grid(axis='y')\n",
    "ax[0].set_yticks(np.arange(0, 1.01, 0.25))\n",
    "ax[0].set_xticks([1.0, 2.0, 3.0])\n",
    "ax[0].set_xticklabels(['lo', 'med', 'hi'], fontsize=22)\n",
    "ax[0].tick_params(axis='both', which='major', labelsize=22)\n",
    "ax[0].set_title(r'$G1$', fontsize=22)\n",
    "ax[0].set_ylabel('Angle Error [rad]', fontsize=24)\n",
    "\n",
    "for box in bp['boxes']:\n",
    "    box.set(hatch='/')\n",
    "    box.set(fill=False)\n",
    "\n",
    "bp0 = ax[1].boxplot([[np.abs(np.median(x)) for x in p_err_b['lo']], [np.abs(np.median(x)) for x in p_err_b['med']], [np.abs(np.median(x)) for x in p_err_b['hi'] if ~np.isnan(np.abs(np.median(x)))]], positions=[0.8, 1.8, 2.8], showfliers=False, patch_artist=True)\n",
    "bp1 = ax[1].boxplot([[np.abs(np.median(x)) for x in t_err_b['lo']], [np.abs(np.median(x)) for x in t_err_b['med']], [np.abs(np.median(x)) for x in t_err_b['hi'] if ~np.isnan(np.abs(np.median(x)))]], positions=[1.2, 2.2, 3.2], showfliers=False, patch_artist=True)\n",
    "ax[1].grid(axis='y')\n",
    "ax[1].set_xlim([0.5, 3.5])\n",
    "ax[1].set_xticks([1.0, 2.0, 3.0])\n",
    "ax[1].set_xticklabels(['lo', 'med', 'hi'], fontsize=22)\n",
    "ax[1].set_title(r'$G2$', fontsize=22)\n",
    "#ax[1].legend(['Pan Error', 'Tilt Error'], fontsize=18)\n",
    "\n",
    "for b0, b1 in zip(bp0['boxes'], bp1['boxes']):\n",
    "    b0.set(hatch='/')\n",
    "    b0.set(fill=False)\n",
    "    b1.set(fill=False)\n",
    "    b0.set_label('Pan')\n",
    "ax[0].legend([bp0['boxes'][0], bp1['boxes'][0]], ['Pan', 'Elevation'], fontsize=18)\n",
    "\n",
    "plt.tick_params(labelcolor='none', top=False, bottom=False, left=False, right=False, which='both')\n",
    "f.tight_layout()\n",
    "f.text(0.55, 1.0, 'Medians of the Absolute Angular Errors', ha='center', fontsize=24)\n",
    "plt.show()"
   ]
  },
  {
   "cell_type": "code",
   "execution_count": 23,
   "metadata": {},
   "outputs": [
    {
     "name": "stdout",
     "output_type": "stream",
     "text": [
      "Sighted pan: FriedmanchisquareResult(statistic=0.07531380753142641, pvalue=0.9630433007452887)\n",
      "Sighted tilt: FriedmanchisquareResult(statistic=1.263598326359825, pvalue=0.5316344429285511)\n",
      "Blind pan: FriedmanchisquareResult(statistic=1.1999999999999902, pvalue=0.5488116360940292)\n",
      "Blind tilt: FriedmanchisquareResult(statistic=0.5142857142857143, pvalue=0.7732577404831906)\n"
     ]
    }
   ],
   "source": [
    "print('Sighted pan: {}'.format(stats.friedmanchisquare(\n",
    "    [np.median(x) if len(x) > 0 else 0.0 for x in p_err_s['lo']],\n",
    "    [np.median(x) if len(x) > 0 else 0.0 for x in p_err_s['med']] + [0.0],\n",
    "    [np.median(x) if len(x) > 0 else 0.0 for x in p_err_s['hi']] + [0.0]\n",
    ")))\n",
    "\n",
    "print('Sighted tilt: {}'.format(stats.friedmanchisquare(\n",
    "    [np.median(x) if len(x) > 0 else 0.0 for x in t_err_s['lo']],\n",
    "    [np.median(x) if len(x) > 0 else 0.0 for x in t_err_s['med']] + [0.0],\n",
    "    [np.median(x) if len(x) > 0 else 0.0 for x in t_err_s['hi']] + [0.0]\n",
    ")))\n",
    "\n",
    "print('Blind pan: {}'.format(stats.friedmanchisquare(\n",
    "    [np.median(x) if len(x) > 0 else 0.0 for x in p_err_b['lo']] + [0.0],\n",
    "    [np.median(x) if len(x) > 0 else 0.0 for x in p_err_b['med']] + [0.0],\n",
    "    [np.median(x) if len(x) > 0 else 0.0 for x in p_err_b['hi']]\n",
    ")))\n",
    "print('Blind tilt: {}'.format(stats.friedmanchisquare(\n",
    "    [np.median(x) if len(x) > 0 else 0.0 for x in t_err_b['lo']] + [0.0],\n",
    "    [np.median(x) if len(x) > 0 else 0.0 for x in t_err_b['med']] + [0.0],\n",
    "    [np.median(x) if len(x) > 0 else 0.0 for x in t_err_b['hi']]\n",
    ")))"
   ]
  },
  {
   "cell_type": "code",
   "execution_count": 24,
   "metadata": {},
   "outputs": [
    {
     "name": "stdout",
     "output_type": "stream",
     "text": [
      "Sighted pan: FriedmanchisquareResult(statistic=3.491525423728831, pvalue=0.1745118359468142)\n",
      "Sighted tilt: FriedmanchisquareResult(statistic=12.915254237288082, pvalue=0.001568513193790472)\n",
      "Blind pan: FriedmanchisquareResult(statistic=4.75, pvalue=0.09301448921066348)\n",
      "Blind tilt: FriedmanchisquareResult(statistic=2.25, pvalue=0.3246524673583498)\n"
     ]
    },
    {
     "name": "stderr",
     "output_type": "stream",
     "text": [
      "/home/jaycee/.local/lib/python3.6/site-packages/numpy/core/fromnumeric.py:2920: RuntimeWarning: Mean of empty slice.\n",
      "  out=out, **kwargs)\n",
      "/home/jaycee/.local/lib/python3.6/site-packages/numpy/core/_methods.py:85: RuntimeWarning: invalid value encountered in double_scalars\n",
      "  ret = ret.dtype.type(ret / rcount)\n"
     ]
    }
   ],
   "source": [
    "print('Sighted pan: {}'.format(stats.friedmanchisquare(\n",
    "    [np.abs(np.median(x)) for x in p_err_s['lo']][:-1],\n",
    "    [np.abs(np.median(x)) for x in p_err_s['med']],\n",
    "    [np.abs(np.median(x)) for x in p_err_s['hi']]\n",
    ")))\n",
    "\n",
    "print('Sighted tilt: {}'.format(stats.friedmanchisquare(\n",
    "    [np.abs(np.median(x)) for x in t_err_s['lo']][:-1],\n",
    "    [np.abs(np.median(x)) for x in t_err_s['med']],\n",
    "    [np.abs(np.median(x)) for x in t_err_s['hi']]\n",
    ")))\n",
    "\n",
    "print('Blind pan: {}'.format(stats.friedmanchisquare(\n",
    "    [np.abs(np.median(x)) for x in p_err_b['lo']],\n",
    "    [np.abs(np.median(x)) for x in p_err_b['med']],\n",
    "    [np.abs(np.median(x)) for x in p_err_b['hi']  if len(x) > 0]\n",
    ")))\n",
    "print('Blind tilt: {}'.format(stats.friedmanchisquare(\n",
    "    [np.abs(np.median(x)) for x in t_err_b['lo']],\n",
    "    [np.abs(np.median(x)) for x in t_err_b['med']],\n",
    "    [np.abs(np.median(x)) for x in t_err_b['hi']  if len(x) > 0]\n",
    ")))"
   ]
  },
  {
   "cell_type": "code",
   "execution_count": 25,
   "metadata": {},
   "outputs": [
    {
     "name": "stdout",
     "output_type": "stream",
     "text": [
      "Sighted tilt (lo med): WilcoxonResult(statistic=503.0, pvalue=0.0039349894559255645)\n",
      "Sighted tilt (lo hi): WilcoxonResult(statistic=407.0, pvalue=0.0003086467398434679)\n",
      "Sighted tilt (med hi): WilcoxonResult(statistic=772.0, pvalue=0.39370295708345915)\n"
     ]
    }
   ],
   "source": [
    "print('Sighted tilt (lo med): {}'.format(stats.wilcoxon(\n",
    "    [np.abs(np.median(x)) if len(x) > 0 else 0.0 for x in t_err_s['lo']][:-1],\n",
    "    [np.abs(np.median(x)) if len(x) > 0 else 0.0 for x in t_err_s['med']]\n",
    ")))\n",
    "print('Sighted tilt (lo hi): {}'.format(stats.wilcoxon(\n",
    "    [np.abs(np.median(x)) if len(x) > 0 else 0.0 for x in t_err_s['lo']][:-1],\n",
    "    [np.abs(np.median(x)) if len(x) > 0 else 0.0 for x in t_err_s['hi']]\n",
    ")))\n",
    "print('Sighted tilt (med hi): {}'.format(stats.wilcoxon(\n",
    "    [np.abs(np.median(x)) if len(x) > 0 else 0.0 for x in t_err_s['hi']],\n",
    "    [np.abs(np.median(x)) if len(x) > 0 else 0.0 for x in t_err_s['med']],\n",
    ")))"
   ]
  },
  {
   "cell_type": "code",
   "execution_count": 26,
   "metadata": {},
   "outputs": [
    {
     "name": "stdout",
     "output_type": "stream",
     "text": [
      "lo\n",
      "KruskalResult(statistic=0.013043478260897245, pvalue=0.909072872160046)\n",
      "KruskalResult(statistic=1.775362318840621, pvalue=0.18271983971837805)\n",
      "med\n",
      "KruskalResult(statistic=0.8977177797333746, pvalue=0.34339439622147316)\n",
      "KruskalResult(statistic=0.030285356167567012, pvalue=0.8618443346437806)\n",
      "hi\n",
      "KruskalResult(statistic=0.7389666748546517, pvalue=0.389992090177258)\n",
      "KruskalResult(statistic=1.159502169819035, pvalue=0.28156880995078526)\n"
     ]
    }
   ],
   "source": [
    "for test in ['lo', 'med', 'hi']:\n",
    "    print(test)\n",
    "    print(stats.kruskal(\n",
    "        [np.abs(np.median(x)) if len(x) > 0 else 0 for x in t_err_b[test]],\n",
    "        [np.abs(np.median(x)) if len(x) > 0 else 0 for x in t_err_s[test]]))\n",
    "    print(stats.kruskal(\n",
    "       [np.abs(np.median(x)) if len(x) > 0 else 0 for x in p_err_b[test]],\n",
    "       [np.abs(np.median(x)) if len(x) > 0 else 0 for x in p_err_s[test]]))"
   ]
  },
  {
   "cell_type": "code",
   "execution_count": 27,
   "metadata": {},
   "outputs": [
    {
     "name": "stdout",
     "output_type": "stream",
     "text": [
      "Sighted pan: FriedmanchisquareResult(statistic=0.9454310623154218, pvalue=0.6233073574826209)\n",
      "Sighted tilt: FriedmanchisquareResult(statistic=6.820794317079044, pvalue=0.03302808038653196)\n",
      "Blind pan: FriedmanchisquareResult(statistic=1.323819978046071, pvalue=0.5158650962681905)\n",
      "Blind tilt: FriedmanchisquareResult(statistic=8.933040614709158, pvalue=0.011487218375279011)\n"
     ]
    }
   ],
   "source": [
    "print('Sighted pan: {}'.format(stats.friedmanchisquare(\n",
    "    [item for sublist in [x if len(x) > 0 else [0.0] for x in p_err_s['lo']] for item in sublist] + [0.0 for i in range(30)], \n",
    "    [item for sublist in [x if len(x) > 0 else [0.0] for x in p_err_s['med']] for item in sublist] + [0.0 for i in range(50)], \n",
    "    [item for sublist in [x if len(x) > 0 else [0.0] for x in p_err_s['hi']] for item in sublist]\n",
    ")))\n",
    "print('Sighted tilt: {}'.format(stats.friedmanchisquare(\n",
    "    [item for sublist in [x if len(x) > 0 else [0.0] for x in t_err_s['lo']] for item in sublist] + [0.0 for i in range(30)], \n",
    "    [item for sublist in [x if len(x) > 0 else [0.0] for x in t_err_s['med']] for item in sublist] + [0.0 for i in range(50)], \n",
    "    [item for sublist in [x if len(x) > 0 else [0.0] for x in t_err_s['hi']] for item in sublist]\n",
    ")))\n",
    "\n",
    "print('Blind pan: {}'.format(stats.friedmanchisquare(\n",
    "    [item for sublist in [x if len(x) > 0 else [0.0] for x in p_err_b['lo']] for item in sublist] + [0.0 for i in range(17)], \n",
    "    [item for sublist in [x if len(x) > 0 else [0.0] for x in p_err_b['med']] for item in sublist] + [0.0 for i in range(22)], \n",
    "    [item for sublist in [x if len(x) > 0 else [0.0] for x in p_err_b['hi']] for item in sublist]\n",
    ")))\n",
    "\n",
    "print('Blind tilt: {}'.format(stats.friedmanchisquare(\n",
    "    [item for sublist in [x if len(x) > 0 else [0.0] for x in t_err_b['lo']] for item in sublist] + [0.0 for i in range(17)], \n",
    "    [item for sublist in [x if len(x) > 0 else [0.0] for x in t_err_b['med']] for item in sublist] + [0.0 for i in range(22)], \n",
    "    [item for sublist in [x if len(x) > 0 else [0.0] for x in t_err_b['hi']] for item in sublist]\n",
    ")))"
   ]
  },
  {
   "cell_type": "code",
   "execution_count": 28,
   "metadata": {},
   "outputs": [
    {
     "name": "stdout",
     "output_type": "stream",
     "text": [
      "Sighted tilt (lo med): WilcoxonResult(statistic=564811.0, pvalue=0.30284347253271204)\n",
      "Sighted tilt (lo hi): WilcoxonResult(statistic=590729.0, pvalue=0.3992216673167762)\n",
      "Sighted tilt (med hi): WilcoxonResult(statistic=551101.0, pvalue=0.002080570600016601)\n"
     ]
    }
   ],
   "source": [
    "print('Sighted tilt (lo med): {}'.format(stats.wilcoxon(\n",
    "    [item for sublist in [x if len(x) > 0 else [0.0] for x in t_err_s['lo']] for item in sublist], \n",
    "    [item for sublist in [x if len(x) > 0 else [0.0] for x in t_err_s['med']] for item in sublist] + [0.0 for i in range(20)], \n",
    ")))\n",
    "print('Sighted tilt (lo hi): {}'.format(stats.wilcoxon(\n",
    "    [item for sublist in [x if len(x) > 0 else [0.0] for x in t_err_s['lo']] for item in sublist] + [0.0 for i in range(30)], \n",
    "    [item for sublist in [x if len(x) > 0 else [0.0] for x in t_err_s['hi']] for item in sublist], \n",
    ")))\n",
    "print('Sighted tilt (med hi): {}'.format(stats.wilcoxon(\n",
    "    [item for sublist in [x if len(x) > 0 else [0.0] for x in t_err_s['med']] for item in sublist] + [0.0 for i in range(50)], \n",
    "    [item for sublist in [x if len(x) > 0 else [0.0] for x in t_err_s['hi']] for item in sublist], \n",
    ")))"
   ]
  },
  {
   "cell_type": "code",
   "execution_count": 29,
   "metadata": {},
   "outputs": [
    {
     "name": "stdout",
     "output_type": "stream",
     "text": [
      "Blind tilt (lo med): WilcoxonResult(statistic=9295.0, pvalue=0.011245873361513992)\n",
      "Blind tilt (lo hi): WilcoxonResult(statistic=12658.0, pvalue=0.40291157377527975)\n",
      "Blind tilt (med hi): WilcoxonResult(statistic=11515.0, pvalue=0.05078350596871445)\n"
     ]
    }
   ],
   "source": [
    "print('Blind tilt (lo med): {}'.format(stats.wilcoxon(\n",
    "    [item for sublist in [x if len(x) > 0 else [0.0] for x in t_err_b['lo']] for item in sublist] + [0.0 for i in range(17)], \n",
    "    [item for sublist in [x if len(x) > 0 else [0.0] for x in t_err_b['med']] for item in sublist] + [0.0 for i in range(22)], \n",
    ")))\n",
    "print('Blind tilt (lo hi): {}'.format(stats.wilcoxon(\n",
    "    [item for sublist in [x if len(x) > 0 else [0.0] for x in t_err_b['lo']] for item in sublist] + [0.0 for i in range(17)], \n",
    "    [item for sublist in [x if len(x) > 0 else [0.0] for x in t_err_b['hi']] for item in sublist], \n",
    ")))\n",
    "print('Blind tilt (med hi): {}'.format(stats.wilcoxon(\n",
    "    [item for sublist in [x if len(x) > 0 else [0.0] for x in t_err_b['hi']] for item in sublist], \n",
    "    [item for sublist in [x if len(x) > 0 else [0.0] for x in t_err_b['med']] for item in sublist] + [0.0 for i in range(22)], \n",
    ")))"
   ]
  },
  {
   "cell_type": "markdown",
   "metadata": {},
   "source": [
    "## Fitts Relationship"
   ]
  },
  {
   "cell_type": "code",
   "execution_count": 30,
   "metadata": {},
   "outputs": [],
   "source": [
    "def func_fitts(x, a, b):\n",
    "    return a + b*x"
   ]
  },
  {
   "cell_type": "code",
   "execution_count": 31,
   "metadata": {},
   "outputs": [],
   "source": [
    "def fitts_id(x, we):\n",
    "    return np.log2(np.array(x)/we + 1)"
   ]
  },
  {
   "cell_type": "code",
   "execution_count": 38,
   "metadata": {},
   "outputs": [
    {
     "name": "stdout",
     "output_type": "stream",
     "text": [
      "Warning: The length of the vector seems to be zero\n",
      "Warning: The length of the vector seems to be zero\n"
     ]
    },
    {
     "name": "stderr",
     "output_type": "stream",
     "text": [
      "/home/jaycee/.local/lib/python3.6/site-packages/numpy/core/fromnumeric.py:2920: RuntimeWarning: Mean of empty slice.\n",
      "  out=out, **kwargs)\n",
      "/home/jaycee/.local/lib/python3.6/site-packages/numpy/core/_methods.py:85: RuntimeWarning: invalid value encountered in double_scalars\n",
      "  ret = ret.dtype.type(ret / rcount)\n",
      "/home/jaycee/.local/lib/python3.6/site-packages/numpy/core/_methods.py:140: RuntimeWarning: Degrees of freedom <= 0 for slice\n",
      "  keepdims=keepdims)\n",
      "/home/jaycee/.local/lib/python3.6/site-packages/numpy/core/_methods.py:110: RuntimeWarning: invalid value encountered in true_divide\n",
      "  arrmean, rcount, out=arrmean, casting='unsafe', subok=False)\n",
      "/home/jaycee/.local/lib/python3.6/site-packages/numpy/core/_methods.py:132: RuntimeWarning: invalid value encountered in double_scalars\n",
      "  ret = ret.dtype.type(ret / rcount)\n"
     ]
    },
    {
     "name": "stdout",
     "output_type": "stream",
     "text": [
      "Warning: The length of the vector seems to be zero\n",
      "Warning: The length of the vector seems to be zero\n"
     ]
    },
    {
     "data": {
      "image/png": "[encoded data removed]",
      "text/plain": [
       "<Figure size 720x720 with 7 Axes>"
      ]
     },
     "metadata": {
      "needs_background": "light"
     },
     "output_type": "display_data"
    }
   ],
   "source": [
    "f, ax = plt.subplots(3, 2, sharex=True, sharey=True, figsize=(10, 10))\n",
    "f.add_subplot(111, frameon=False)\n",
    "\n",
    "tests = {'lo': ax[0, 0], 'med': ax[1, 0], 'hi': ax[2, 0]}\n",
    "x = np.arange(-0.9, 2, 0.01)\n",
    "step = 0.15\n",
    "\n",
    "for test in tests.keys():\n",
    "    timediff = []\n",
    "    anglediff = []\n",
    "    for dset in data_s[test]:\n",
    "        timel = []\n",
    "        ang_distl = []\n",
    "        df = pd.DataFrame(dset.data)\n",
    "        for time, qx, qy, qz, qw in df[['time', 'qx', 'qy', 'qz', 'qw']].iloc[[0]+dset.target_indices].itertuples(index=False):\n",
    "            timel.append(time)\n",
    "            ang_distl.append(get_tango_angle(qx, qy, qz, qw))\n",
    "\n",
    "        a, t = reject_outliers_with_time(np.abs(np.diff([np.sqrt(i**2 + y**2) for i, y in ang_distl])), np.diff(timel), m=3)\n",
    "        timediff+=t.tolist()\n",
    "        anglediff+=a.tolist()\n",
    "            \n",
    "    we = 4.133*np.std(anglediff)\n",
    "\n",
    "    ids = [fitts_id(x, we) for x in anglediff]\n",
    "\n",
    "    #bins = np.arange(0, np.max(ids), step)\n",
    "    bins = np.arange(0, 1.0, step)\n",
    "    #ind = np.digitize(np.power(2, ids), bins)\n",
    "    ind = np.digitize(ids, bins)\n",
    "\n",
    "    timebox = [[] for i in range(len(bins))]\n",
    "    for i in range(len(timediff)):\n",
    "        timebox[ind[i]-1].append(timediff[i])\n",
    "    fopt, pconv = sp.optimize.curve_fit(func_fitts, fitts_id(bins, we), [np.median(t)  if len(t) > 0 else 0 for t in timebox])\n",
    "    \n",
    "    #tests[test].plot([i for i in ids], timediff, 'x')\n",
    "    tests[test].boxplot(timebox, positions=np.round(bins+step/2, 2), showfliers=False, medianprops=dict(linestyle=None, linewidth=0), widths=0.08)\n",
    "    tests[test].plot(x, fopt[0]+fopt[1]*fitts_id(x, we), 'k', label='Line of best fit')\n",
    "    tests[test].plot(bins+step/2, [np.median(t) if len(t) > 0 else 0 for t in timebox], 'kx', label='Medians')\n",
    "    #tests[test].set_title(test, fontsize=22)\n",
    "    tests[test].set_xticks(np.round(np.arange(0, 1, 0.3), 2))\n",
    "    tests[test].grid()\n",
    "\n",
    "tests = {'lo': ax[0, 1], 'med': ax[1, 1], 'hi': ax[2, 1]}\n",
    "\n",
    "for test in tests.keys():\n",
    "    timediff = []\n",
    "    anglediff = []\n",
    "    for dset in data_b[test]:\n",
    "        timel = []\n",
    "        ang_distl = []\n",
    "        df = pd.DataFrame(dset.data)\n",
    "        for time, qx, qy, qz, qw in df[['time', 'qx', 'qy', 'qz', 'qw']].iloc[[0]+dset.target_indices].itertuples(index=False):\n",
    "            timel.append(time)\n",
    "            ang_distl.append(get_tango_angle(qx, qy, qz, qw))\n",
    "\n",
    "        a, t = reject_outliers_with_time(np.abs(np.diff([np.sqrt(i**2 + y**2) for i, y in ang_distl])), np.diff(timel), m=3)\n",
    "        timediff+=t.tolist()\n",
    "        anglediff+=a.tolist()\n",
    "            \n",
    "    we = 4.133*np.std(anglediff)\n",
    "\n",
    "    ids = [fitts_id(x, we) for x in anglediff]\n",
    "    \n",
    "    #bins = np.arange(0, np.max(ids), step)\n",
    "    bins = np.arange(0, 1.0, step)\n",
    "    #ind = np.digitize(np.power(2, ids), bins)\n",
    "    ind = np.digitize(ids, bins)\n",
    "\n",
    "    timebox = [[] for i in range(len(bins))]\n",
    "    for i in range(len(timediff)):\n",
    "        timebox[ind[i]-1].append(timediff[i])\n",
    "    #print(bins)\n",
    "    #print(fitts_id(bins+step, we), [np.median(t) for t in timebox if len(t) > 0])\n",
    "    fopt, pconv = sp.optimize.curve_fit(func_fitts, fitts_id(bins, we), [np.median(t)  if len(t) > 0 else 0 for t in timebox])\n",
    "    \n",
    "    #tests[test].plot([i for i in ids], timediff, 'x')\n",
    "    tests[test].boxplot(timebox, positions=np.round(bins+step/2, 3), showfliers=False, medianprops=dict(linestyle=None, linewidth=0), widths=0.08)\n",
    "    tests[test].plot(x, fopt[0]+fopt[1]*fitts_id(x, we), 'k', label='Line of best fit')\n",
    "    tests[test].plot(bins+step/2, [np.median(t) if len(t) > 0 else 0 for t in timebox], 'kx', label='Medians')\n",
    "    tests[test].set_title(test, fontsize=22)\n",
    "    tests[test].set_xticks(np.round(np.arange(0, 1, 0.3), 2))\n",
    "    tests[test].grid()\n",
    "    tests[test].tick_params(axis='both', which='major', labelsize=16)\n",
    "    tests[test].yaxis.set_label_position('right')\n",
    "    tests[test].yaxis.tick_right()\n",
    "    tests[test].set_ylabel(test, fontsize=22, rotation=0, labelpad=24)\n",
    "    tests[test].tick_params(axis='both', which='major', labelsize=16)\n",
    "    \n",
    "ax[0, 0].legend(fontsize=18)\n",
    "ax[0, 0].set_title(r'$G1$', fontsize=22)\n",
    "ax[0, 1].set_title(r'$G2$', fontsize=22)\n",
    "#ax[0, 0].set_ylim((0, 50))\n",
    "ax[1, 0].set_ylim((0, 90))\n",
    "\n",
    "ax[1, 0].set_xticklabels(np.round(np.arange(0, 1, 0.3), 2))\n",
    "ax[1, 1].set_xticklabels(np.round(np.arange(0, 1, 0.3), 2))\n",
    "\n",
    "ax[1, 0].set_xlim((-0.2, 1.1))\n",
    "ax[1, 1].set_xlim((-0.2, 1.1))\n",
    "\n",
    "plt.tick_params(labelcolor='none', top=False, bottom=False, left=False, right=False, which='both')\n",
    "plt.ylabel('Time [s]', fontsize=22)\n",
    "plt.xlabel('Index of Difficulty', fontsize=22)\n",
    "\n",
    "f.text(0.55, 1.0, 'Fitts Relationships', ha='center', fontsize=24)\n",
    "f.tight_layout()\n",
    "plt.show()"
   ]
  },
  {
   "cell_type": "code",
   "execution_count": 33,
   "metadata": {},
   "outputs": [
    {
     "name": "stdout",
     "output_type": "stream",
     "text": [
      "lo\n",
      "1.0903395606597193\n",
      "[11.69782819 11.84042934 11.96673076 12.08007937 12.18288652 12.27694719\n",
      " 12.36363362] [8.268109000004188, 15.786211999991792, 12.6894929999944, 11.044894999999997, 11.940073000005214, 15.387327500002584, 9.29242549999617]\n",
      "(0.9733167886734009, 0.9212619662284851) (0.9444823265075684, 0.6793634295463562)\n",
      "(0.08413115534849397, 0.8576794407033466)\n",
      "med\n",
      "1.2603309381730143\n",
      "[ 2.50150454 10.44308488 17.58122092 24.06364828 30.00076358 35.47723536\n",
      " 40.5594256 ] [8.862530999991577, 11.672722256997076, 16.10600999999997, 11.438545701499606, 26.758369999999786, 34.94090199999994, 50.847801000000004]\n",
      "(0.974245011806488, 0.9272292256355286) (0.8698971271514893, 0.1852433830499649)\n",
      "(0.8819765443622631, 0.008616840640374858)\n",
      "hi\n",
      "0.9239684436111977\n",
      "[ 7.63422185 10.80379626 13.5583079  15.99398345 18.17703561 20.15497803\n",
      " 21.96306445] [9.526689500002249, 10.77999800001271, 13.323491500000046, 11.230720999999903, 20.925306664000004, 16.366188999993028, 26.13299200000006]\n",
      "(0.9720203280448914, 0.91261225938797) (0.8927652835845947, 0.2894006371498108)\n",
      "(0.8409844933309527, 0.017742574197866463)\n"
     ]
    },
    {
     "name": "stderr",
     "output_type": "stream",
     "text": [
      "/home/jaycee/.local/lib/python3.6/site-packages/numpy/core/fromnumeric.py:2920: RuntimeWarning: Mean of empty slice.\n",
      "  out=out, **kwargs)\n",
      "/home/jaycee/.local/lib/python3.6/site-packages/numpy/core/_methods.py:85: RuntimeWarning: invalid value encountered in double_scalars\n",
      "  ret = ret.dtype.type(ret / rcount)\n",
      "/home/jaycee/.local/lib/python3.6/site-packages/numpy/core/_methods.py:140: RuntimeWarning: Degrees of freedom <= 0 for slice\n",
      "  keepdims=keepdims)\n",
      "/home/jaycee/.local/lib/python3.6/site-packages/numpy/core/_methods.py:110: RuntimeWarning: invalid value encountered in true_divide\n",
      "  arrmean, rcount, out=arrmean, casting='unsafe', subok=False)\n",
      "/home/jaycee/.local/lib/python3.6/site-packages/numpy/core/_methods.py:132: RuntimeWarning: invalid value encountered in double_scalars\n",
      "  ret = ret.dtype.type(ret / rcount)\n"
     ]
    }
   ],
   "source": [
    "tests = {'lo': 0, 'med': 0, 'hi': 0}\n",
    "x = np.arange(0, 2, 0.01)\n",
    "step = 0.15\n",
    "\n",
    "for test in tests.keys():\n",
    "    timediff = []\n",
    "    anglediff = []\n",
    "    for dset in data_b[test]:\n",
    "        timel = []\n",
    "        ang_distl = []\n",
    "        df = pd.DataFrame(dset.data)\n",
    "        for time, qx, qy, qz, qw in df[['time', 'qx', 'qy', 'qz', 'qw']].iloc[[0]+dset.target_indices].itertuples(index=False):\n",
    "            timel.append(time)\n",
    "            ang_distl.append(get_tango_angle(qx, qy, qz, qw))\n",
    "\n",
    "        a, t = reject_outliers_with_time(np.abs(np.diff([np.sqrt(i**2 + y**2) for i, y in ang_distl])), np.diff(timel), m=3)\n",
    "        timediff+=t.tolist()\n",
    "        anglediff+=a.tolist()\n",
    "    print(test)\n",
    "\n",
    "    we = 4.133*np.std(anglediff)\n",
    "    print(we)\n",
    "\n",
    "    ids = [fitts_id(x, we) for x in anglediff]\n",
    "\n",
    "    #bins = np.arange(0, np.max(ids), step)\n",
    "    bins = np.arange(0, 1.0, step)   \n",
    "    ind = np.digitize(ids, bins)\n",
    "\n",
    "    timebox = [[] for i in range(len(bins))]\n",
    "    for i in range(len(timediff)):\n",
    "        timebox[ind[i]-1].append(timediff[i])\n",
    "    x = fitts_id(bins, we)\n",
    "    fopt, pconv = sp.optimize.curve_fit(func_fitts, x, [np.median(t) if len(t) > 0 else 0 for t in timebox])\n",
    "    y_fit = fopt[0]+fopt[1]*x\n",
    "    y_true = [np.median(t) if len(t) > 0 else 0 for t in timebox]\n",
    "    print(y_fit, y_true)\n",
    "    print(stats.shapiro(y_fit), stats.shapiro(y_true))\n",
    "    if stats.shapiro(y_fit)[1] < 0.05 or stats.shapiro(y_true)[1] < 0.05:\n",
    "        print(stats.spearmanr(y_fit, y_true))\n",
    "    else:\n",
    "        print(stats.pearsonr(y_fit, y_true))"
   ]
  },
  {
   "cell_type": "code",
   "execution_count": 34,
   "metadata": {
    "scrolled": true
   },
   "outputs": [
    {
     "name": "stdout",
     "output_type": "stream",
     "text": [
      "Warning: The length of the vector seems to be zero\n",
      "Warning: The length of the vector seems to be zero\n"
     ]
    },
    {
     "name": "stderr",
     "output_type": "stream",
     "text": [
      "/home/jaycee/.local/lib/python3.6/site-packages/numpy/core/fromnumeric.py:2920: RuntimeWarning: Mean of empty slice.\n",
      "  out=out, **kwargs)\n",
      "/home/jaycee/.local/lib/python3.6/site-packages/numpy/core/_methods.py:85: RuntimeWarning: invalid value encountered in double_scalars\n",
      "  ret = ret.dtype.type(ret / rcount)\n",
      "/home/jaycee/.local/lib/python3.6/site-packages/numpy/core/_methods.py:140: RuntimeWarning: Degrees of freedom <= 0 for slice\n",
      "  keepdims=keepdims)\n",
      "/home/jaycee/.local/lib/python3.6/site-packages/numpy/core/_methods.py:110: RuntimeWarning: invalid value encountered in true_divide\n",
      "  arrmean, rcount, out=arrmean, casting='unsafe', subok=False)\n",
      "/home/jaycee/.local/lib/python3.6/site-packages/numpy/core/_methods.py:132: RuntimeWarning: invalid value encountered in double_scalars\n",
      "  ret = ret.dtype.type(ret / rcount)\n"
     ]
    },
    {
     "name": "stdout",
     "output_type": "stream",
     "text": [
      "Warning: The length of the vector seems to be zero\n",
      "Warning: The length of the vector seems to be zero\n",
      "[60, 58, 59]\n",
      "FriedmanchisquareResult(statistic=40.17573221757321, pvalue=1.8877765881235976e-09)\n",
      "lo med WilcoxonResult(statistic=403.0, pvalue=0.00016381050775077287)\n",
      "lo hi WilcoxonResult(statistic=410.0, pvalue=0.00020111681110313547)\n",
      "hi med WilcoxonResult(statistic=656.0, pvalue=0.08390103960847828)\n",
      "[8, 8, 9]\n",
      "FriedmanchisquareResult(statistic=13.542857142857134, pvalue=0.001146056257673944)\n"
     ]
    },
    {
     "data": {
      "image/png": "[encoded data removed]",
      "text/plain": [
       "<Figure size 720x504 with 2 Axes>"
      ]
     },
     "metadata": {
      "needs_background": "light"
     },
     "output_type": "display_data"
    }
   ],
   "source": [
    "tests = {'lo': 1.015, 'med': 1.017, 'hi': 1.017} # sighted\n",
    "ips = {'lo': [], 'med': [], 'hi': []}\n",
    "step = 0.3\n",
    "\n",
    "for test in tests.keys():\n",
    "    timediff = []\n",
    "    anglediff = []\n",
    "    for dset in data_s[test]:\n",
    "        timel = []\n",
    "        ang_distl = []\n",
    "        df = pd.DataFrame(dset.data)\n",
    "        for time, qx, qy, qz, qw in df[['time', 'qx', 'qy', 'qz', 'qw']].iloc[[0]+dset.target_indices].itertuples(index=False):\n",
    "            timel.append(time)\n",
    "            ang_distl.append(get_tango_angle(qx, qy, qz, qw))\n",
    "\n",
    "        a, t = reject_outliers_with_time(np.abs(np.diff([np.sqrt(i**2 + y**2) for i, y in ang_distl])), np.diff(timel), m=3)\n",
    "        timediff+=t.tolist()\n",
    "        anglediff+=a.tolist()\n",
    "        #we = 4.133*np.std(anglediff)\n",
    "\n",
    "        ids = [fitts_id(x, tests[test]) for x in anglediff]\n",
    "        if len(ids) == 0:\n",
    "            continue\n",
    "        #print(ids)\n",
    "        bins = np.arange(1e-5, np.max(ids), step)\n",
    "        ind = np.digitize(np.power(2, ids), bins)\n",
    "\n",
    "        timebox = [[] for i in range(len(bins))]\n",
    "        for i in range(len(timediff)):\n",
    "            timebox[ind[i]-1].append(timediff[i])\n",
    "        #fmedians = [np.median(t) for t in timebox if len(t) > 0].copy()\n",
    "        #fx = (bins+step).copy()\n",
    "        #print(fitts_id(bins+step, we), [np.median(t) for t in timebox if len(t) > 0])\n",
    "        fopt, pconv = sp.optimize.curve_fit(func_fitts, fitts_id(bins+step, we), [np.median(t) if len(t) > 0 else 0.0 for t in timebox ])\n",
    "        x = fitts_id(bins+step, we)\n",
    "        #print(x, fopt[0]+fopt[1]*x)\n",
    "        ips[test].append(np.median(x/(fopt[0]+fopt[1]*x)))\n",
    "#print(ips)\n",
    "print([len(ips[test]) for test in ips.keys()])\n",
    "print(stats.friedmanchisquare(ips['lo'], ips['med']+[0, 0], ips['hi']+[0]))\n",
    "#print(stats.friedmanchisquare(ips['lo'][:-2], ips['med'], ips['hi'][:-1]))\n",
    "print('lo med {}'.format(stats.wilcoxon(ips['lo'], ips['med']+[0,0])))\n",
    "print('lo hi {}'.format(stats.wilcoxon(ips['lo'], ips['hi']+[0])))\n",
    "print('hi med {}'.format(stats.wilcoxon(ips['hi'], ips['med']+[0])))\n",
    "\n",
    "f, ax = plt.subplots(1, 2, figsize=(10, 7), sharex=True, sharey=True)\n",
    "\n",
    "ax[0].boxplot([ips['lo'], ips['med'], ips['hi']], showfliers=False, labels=[r'$lo$', r'$med$', r'$hi$'])\n",
    "#ax[0].set_title('Indices of Performance', fontsize=24)\n",
    "ax[0].set_ylabel('Index of Performance', fontsize=22)\n",
    "ax[0].tick_params(axis='both', which='major', labelsize=22)\n",
    "ax[0].grid(axis='y')\n",
    "ax[0].set_title(r'$G1$', fontsize=24)\n",
    "\n",
    "tests = {'lo': 1.00, 'med': 1.14, 'hi': 0.95} # blind\n",
    "ips = {'lo': [], 'med': [], 'hi': []}\n",
    "\n",
    "for test in tests.keys():\n",
    "    timediff = []\n",
    "    anglediff = []\n",
    "    for dset in data_b[test]:\n",
    "        timel = []\n",
    "        ang_distl = []\n",
    "        df = pd.DataFrame(dset.data)\n",
    "        for time, qx, qy, qz, qw in df[['time', 'qx', 'qy', 'qz', 'qw']].iloc[[0]+dset.target_indices].itertuples(index=False):\n",
    "            timel.append(time)\n",
    "            ang_distl.append(get_tango_angle(qx, qy, qz, qw))\n",
    "\n",
    "        a, t = reject_outliers_with_time(np.abs(np.diff([np.sqrt(i**2 + y**2) for i, y in ang_distl])), np.diff(timel), m=3)\n",
    "        timediff+=t.tolist()\n",
    "        anglediff+=a.tolist()\n",
    "        #we = 4.133*np.std(anglediff)\n",
    "\n",
    "        ids = [fitts_id(x, tests[test]) for x in anglediff]\n",
    "        if len(ids) == 0:\n",
    "            continue\n",
    "        #print(ids)\n",
    "        bins = np.arange(1e-5, np.max(ids), step)\n",
    "        ind = np.digitize(np.power(2, ids), bins)\n",
    "\n",
    "        timebox = [[] for i in range(len(bins))]\n",
    "        for i in range(len(timediff)):\n",
    "            timebox[ind[i]-1].append(timediff[i])\n",
    "        #fmedians = [np.median(t) for t in timebox if len(t) > 0].copy()\n",
    "        #fx = (bins+step).copy()\n",
    "        #print(fitts_id(bins+step, we), [np.median(t) for t in timebox if len(t) > 0])\n",
    "        fopt, pconv = sp.optimize.curve_fit(func_fitts, fitts_id(bins+step, we), [np.median(t) if len(t) > 0 else 0.0 for t in timebox ])\n",
    "        x = fitts_id(bins+step, we)\n",
    "        #print(x, fopt[0]+fopt[1]*x)\n",
    "        ips[test].append(np.median(x/(fopt[0]+fopt[1]*x)))\n",
    "print([len(ips[test]) for test in ips.keys()])\n",
    "print(stats.friedmanchisquare(ips['lo']+[0], ips['med']+[0], ips['hi']))\n",
    "#print(stats.friedmanchisquare(ips['lo'], ips['med'], ips['hi'][:-1]))\n",
    "        \n",
    "ax[1].boxplot([ips['lo'], ips['med'], ips['hi']], showfliers=False, labels=[r'$lo$', r'$med$', r'$hi$'])\n",
    "#ax[0].set_title('Indices of Performance', fontsize=24)\n",
    "#ax[0].set_ylabel('Index of Performance', fontsize=22)\n",
    "#ax[0].tick_params(axis='both', which='major', labelsize=16)\n",
    "ax[1].grid(axis='y')\n",
    "ax[1].tick_params(axis='both', which='major', labelsize=22)\n",
    "ax[1].set_title(r'$G2$', fontsize=24)\n",
    "\n",
    "f.text(0.55, 1.0, 'Indices of Performance', ha='center', fontsize=24)\n",
    "f.tight_layout()\n",
    "plt.show()"
   ]
  },
  {
   "cell_type": "code",
   "execution_count": 35,
   "metadata": {},
   "outputs": [
    {
     "name": "stdout",
     "output_type": "stream",
     "text": [
      "Warning: The length of the vector seems to be zero\n",
      "Warning: The length of the vector seems to be zero\n"
     ]
    },
    {
     "name": "stderr",
     "output_type": "stream",
     "text": [
      "/home/jaycee/.local/lib/python3.6/site-packages/numpy/core/fromnumeric.py:2920: RuntimeWarning: Mean of empty slice.\n",
      "  out=out, **kwargs)\n",
      "/home/jaycee/.local/lib/python3.6/site-packages/numpy/core/_methods.py:85: RuntimeWarning: invalid value encountered in double_scalars\n",
      "  ret = ret.dtype.type(ret / rcount)\n",
      "/home/jaycee/.local/lib/python3.6/site-packages/numpy/core/_methods.py:140: RuntimeWarning: Degrees of freedom <= 0 for slice\n",
      "  keepdims=keepdims)\n",
      "/home/jaycee/.local/lib/python3.6/site-packages/numpy/core/_methods.py:110: RuntimeWarning: invalid value encountered in true_divide\n",
      "  arrmean, rcount, out=arrmean, casting='unsafe', subok=False)\n",
      "/home/jaycee/.local/lib/python3.6/site-packages/numpy/core/_methods.py:132: RuntimeWarning: invalid value encountered in double_scalars\n",
      "  ret = ret.dtype.type(ret / rcount)\n"
     ]
    },
    {
     "name": "stdout",
     "output_type": "stream",
     "text": [
      "Warning: The length of the vector seems to be zero\n",
      "Warning: The length of the vector seems to be zero\n",
      "[60, 58, 59]\n",
      "FriedmanchisquareResult(statistic=50.62068965517244, pvalue=1.0182558323509833e-11)\n",
      "lo med WilcoxonResult(statistic=99.0, pvalue=4.71058503776625e-09)\n",
      "lo hi WilcoxonResult(statistic=88.0, pvalue=1.790702640375869e-09)\n",
      "hi med WilcoxonResult(statistic=832.0, pvalue=0.8556257494372784)\n",
      "FriedmanchisquareResult(statistic=14.25, pvalue=0.000804733010124613)\n",
      "lo med WilcoxonResult(statistic=0.0, pvalue=0.011718685599768628)\n",
      "lo hi WilcoxonResult(statistic=1.0, pvalue=0.017290280592906253)\n",
      "hi med WilcoxonResult(statistic=0.0, pvalue=0.011718685599768628)\n"
     ]
    },
    {
     "name": "stderr",
     "output_type": "stream",
     "text": [
      "/home/jaycee/.local/lib/python3.6/site-packages/scipy/stats/morestats.py:2388: UserWarning: Warning: sample size too small for normal approximation.\n",
      "  warnings.warn(\"Warning: sample size too small for normal approximation.\")\n",
      "/home/jaycee/.local/lib/python3.6/site-packages/scipy/stats/morestats.py:2388: UserWarning: Warning: sample size too small for normal approximation.\n",
      "  warnings.warn(\"Warning: sample size too small for normal approximation.\")\n",
      "/home/jaycee/.local/lib/python3.6/site-packages/scipy/stats/morestats.py:2388: UserWarning: Warning: sample size too small for normal approximation.\n",
      "  warnings.warn(\"Warning: sample size too small for normal approximation.\")\n"
     ]
    },
    {
     "data": {
      "image/png": "[encoded data removed]",
      "text/plain": [
       "<Figure size 720x504 with 2 Axes>"
      ]
     },
     "metadata": {
      "needs_background": "light"
     },
     "output_type": "display_data"
    },
    {
     "name": "stdout",
     "output_type": "stream",
     "text": [
      "lo\n",
      "KruskalResult(statistic=20.009057971014528, pvalue=7.70761913807569e-06)\n",
      "0.05603658117367922 0.005066141095120224\n",
      "0.033600360225293474 0.008547349994830521\n",
      "med\n",
      "KruskalResult(statistic=20.776553106212397, pvalue=5.161098158038887e-06)\n",
      "0.053345721173572065 0.008393243333583015\n",
      "0.01374923334519211 0.00204982697909042\n",
      "hi\n",
      "KruskalResult(statistic=22.39697213759995, pvalue=2.217232872775389e-06)\n",
      "0.050854493613548254 0.006962756888498539\n",
      "0.022120335162521158 0.005903396037040254\n"
     ]
    }
   ],
   "source": [
    "tests = {'lo': 1.015, 'med': 1.017, 'hi': 1.017} # sighted\n",
    "ips_s = {'lo': [], 'med': [], 'hi': []}\n",
    "step = 0.15\n",
    "\n",
    "for test in tests.keys():\n",
    "    timediff = []\n",
    "    anglediff = []\n",
    "    for dset in data_s[test]:\n",
    "        timel = []\n",
    "        ang_distl = []\n",
    "        df = pd.DataFrame(dset.data)\n",
    "        for time, qx, qy, qz, qw in df[['time', 'qx', 'qy', 'qz', 'qw']].iloc[[0]+dset.target_indices].itertuples(index=False):\n",
    "            timel.append(time)\n",
    "            ang_distl.append(get_tango_angle(qx, qy, qz, qw))\n",
    "\n",
    "        a, t = reject_outliers_with_time(np.abs(np.diff([np.sqrt(i**2 + y**2) for i, y in ang_distl])), np.diff(timel), m=3)\n",
    "        timediff+=t.tolist()\n",
    "        anglediff+=a.tolist()\n",
    "        #we = 4.133*np.std(anglediff)\n",
    "        we = tests[test]\n",
    "\n",
    "        #ids = [fitts_id(x, tests[test]) for x in anglediff]\n",
    "        ids = [fitts_id(x, we) for x in anglediff]\n",
    "        if len(ids) == 0:\n",
    "            continue\n",
    "        #print(ids)\n",
    "        bins = np.arange(0, 1, step)\n",
    "        ind = np.digitize(ids, bins)\n",
    "\n",
    "        timebox = [[] for i in range(len(bins))]\n",
    "        for i in range(len(timediff)):\n",
    "            timebox[ind[i]-1].append(timediff[i])\n",
    "        #fmedians = [np.median(t) for t in timebox if len(t) > 0].copy()\n",
    "        #fx = (bins+step).copy()\n",
    "        #print(fitts_id(bins+step, we), [np.median(t) for t in timebox if len(t) > 0])\n",
    "        fopt, pconv = sp.optimize.curve_fit(func_fitts, fitts_id(bins, we), [np.median(t) if len(t) > 0 else 0.0 for t in timebox ])\n",
    "        #x = fitts_id(bins, tests[test])\n",
    "        x = fitts_id(bins, we)\n",
    "        #print(x, fopt[0]+fopt[1]*x)\n",
    "        ips_s[test].append(np.median(x/(fopt[0]+fopt[1]*x)))\n",
    "#print(ips)\n",
    "print([len(ips_s[test]) for test in ips_s.keys()])\n",
    "print(stats.friedmanchisquare(ips_s['lo'][:-2], ips_s['med'], ips_s['hi'][:-1]))\n",
    "#print(stats.kruskal(ips['lo'], ips['med'], ips['hi']))\n",
    "#print(stats.friedmanchisquare(ips['lo'][:-2], ips['med'], ips['hi'][:-1]))\n",
    "print('lo med {}'.format(stats.wilcoxon(ips_s['lo'][:-2], ips_s['med'])))\n",
    "print('lo hi {}'.format(stats.wilcoxon(ips_s['lo'][:-1], ips_s['hi'])))\n",
    "print('hi med {}'.format(stats.wilcoxon(ips_s['hi'][:-1], ips_s['med'])))\n",
    "\n",
    "f, ax = plt.subplots(1, 2, figsize=(10, 7), sharex=True, sharey=True)\n",
    "\n",
    "ax[0].boxplot([ips_s['lo'], ips_s['med'], ips_s['hi']], showfliers=False, labels=[r'$lo$', r'$med$', r'$hi$'])\n",
    "#ax[0].set_title('Indices of Performance', fontsize=24)\n",
    "ax[0].set_ylabel('Index of Performance', fontsize=22)\n",
    "ax[0].tick_params(axis='both', which='major', labelsize=22)\n",
    "ax[0].grid(axis='y')\n",
    "ax[0].set_title(r'$G1$', fontsize=24)\n",
    "\n",
    "tests = {'lo': 1.09, 'med': 1.26, 'hi': 0.92} # blind\n",
    "ips_b = {'lo': [], 'med': [], 'hi': []}\n",
    "\n",
    "for test in tests.keys():\n",
    "    timediff = []\n",
    "    anglediff = []\n",
    "    for dset in data_b[test]:\n",
    "        timel = []\n",
    "        ang_distl = []\n",
    "        df = pd.DataFrame(dset.data)\n",
    "        for time, qx, qy, qz, qw in df[['time', 'qx', 'qy', 'qz', 'qw']].iloc[[0]+dset.target_indices].itertuples(index=False):\n",
    "            timel.append(time)\n",
    "            ang_distl.append(get_tango_angle(qx, qy, qz, qw))\n",
    "\n",
    "        a, t = reject_outliers_with_time(np.abs(np.diff([np.sqrt(i**2 + y**2) for i, y in ang_distl])), np.diff(timel), m=3)\n",
    "        timediff+=t.tolist()\n",
    "        anglediff+=a.tolist()\n",
    "        #we = 4.133*np.std(anglediff)\n",
    "        we = tests[test]\n",
    "\n",
    "        #ids = [fitts_id(x, tests[test]) for x in anglediff]\n",
    "        ids = [fitts_id(x, we) for x in anglediff]\n",
    "        if len(ids) == 0:\n",
    "            continue\n",
    "        #print(ids)\n",
    "        bins = np.arange(0, 1, step)\n",
    "        ind = np.digitize(ids, bins)\n",
    "\n",
    "        timebox = [[] for i in range(len(bins))]\n",
    "        for i in range(len(timediff)):\n",
    "            timebox[ind[i]-1].append(timediff[i])\n",
    "        fopt, pconv = sp.optimize.curve_fit(func_fitts, fitts_id(bins, we), [np.median(t) if len(t) > 0 else 0.0 for t in timebox ])\n",
    "        #x = fitts_id(bins, tests[test])\n",
    "        x = fitts_id(bins, we)\n",
    "        ips_b[test].append(np.median(x/(fopt[0]+fopt[1]*x)))\n",
    "#print([ips[test] for test in ips.keys()])\n",
    "print(stats.friedmanchisquare(ips_b['lo'], ips_b['med'], ips_b['hi'][:-1]))\n",
    "print('lo med {}'.format(stats.wilcoxon(ips_b['lo'], ips_b['med'])))\n",
    "print('lo hi {}'.format(stats.wilcoxon(ips_b['lo'], ips_b['hi'][:-1])))\n",
    "print('hi med {}'.format(stats.wilcoxon(ips_b['hi'][:-1], ips_b['med'])))\n",
    "#print(stats.friedmanchisquare(ips['lo'], ips['med'], ips['hi'][:-1]))\n",
    "        \n",
    "ax[1].boxplot([ips_b['lo'], ips_b['med'], ips_b['hi']], showfliers=False, labels=[r'$lo$', r'$med$', r'$hi$'])\n",
    "#ax[0].set_title('Indices of Performance', fontsize=24)\n",
    "#ax[0].set_ylabel('Index of Performance', fontsize=22)\n",
    "#ax[0].tick_params(axis='both', which='major', labelsize=16)\n",
    "ax[1].grid(axis='y')\n",
    "ax[1].tick_params(axis='both', which='major', labelsize=22)\n",
    "ax[1].set_title(r'$G2$', fontsize=24)\n",
    "\n",
    "f.text(0.55, 1.0, 'Indices of Performance', ha='center', fontsize=24)\n",
    "f.tight_layout()\n",
    "plt.show()\n",
    "\n",
    "for test in ['lo', 'med', 'hi']:\n",
    "    print(test)\n",
    "    print(stats.kruskal(ips_b[test], ips_s[test]))\n",
    "    print(np.mean(ips_s[test]), np.std(ips_s[test]))\n",
    "    print(np.mean(ips_b[test]), np.std(ips_b[test]))"
   ]
  },
  {
   "cell_type": "code",
   "execution_count": 36,
   "metadata": {},
   "outputs": [
    {
     "data": {
      "image/png": "[encoded data removed]",
      "text/plain": [
       "<Figure size 1008x504 with 3 Axes>"
      ]
     },
     "metadata": {
      "needs_background": "light"
     },
     "output_type": "display_data"
    }
   ],
   "source": [
    "datasets = {}\n",
    "glob_pan = []\n",
    "glob_tilt = []\n",
    "for key in ['lo', 'med', 'hi']:\n",
    "    pan = []\n",
    "    tilt = []\n",
    "    for dset in data_b[key]:\n",
    "        code = dset.file.split('/')[10]\n",
    "        if code not in datasets.keys():\n",
    "            datasets[code] = {}\n",
    "        datasets[code][key] = {}\n",
    "        datasets[code][key]['pan'] = []\n",
    "        datasets[code][key]['tilt'] = []\n",
    "        pans, tilts = get_error(dset)\n",
    "        if len(pans) != 0 and len(tilts) != 0:\n",
    "            datasets[code][key]['pan'].append(np.median(pans))\n",
    "            datasets[code][key]['tilt'].append(np.median(np.array(tilts)))\n",
    "            pan.append(np.median(pans))\n",
    "            tilt.append(np.median(tilts))\n",
    "            # pans.append(np.median(pan))\n",
    "            # tilts.append(np.median(tilt))\n",
    "    glob_pan.append(pan)\n",
    "    glob_tilt.append(tilt)\n",
    "pans = []\n",
    "tilts = []\n",
    "for code in datasets.keys():\n",
    "    pan = []\n",
    "    tilt = []\n",
    "    for key in datasets[code].keys():\n",
    "        if len(datasets[code][key]['tilt']) != 0:\n",
    "            pan.append(datasets[code][key]['pan'])\n",
    "            tilt.append(datasets[code][key]['tilt'][0])\n",
    "    tilts.append(tilt)\n",
    "    pans.append(pan)\n",
    "\n",
    "f, ax = plt.subplots(1, 2, sharey=True, sharex=True, figsize=(14, 7))\n",
    "f.add_subplot(111, frameon=False)\n",
    "\n",
    "hatch = {'lo': '/', 'med': 'x', 'hi': 'o'}\n",
    "for key in ['lo', 'med', 'hi']:\n",
    "    nbins = 5\n",
    "    data = [datasets[code][key]['tilt'][0] if len(datasets[code][key]['tilt']) != 0 else 0.0 for code in datasets.keys()]\n",
    "    data = [rad_to_hz(data[i], key) for i in range(len(data))]\n",
    "    # hist, bins = np.histogram(np.log2(data), normed=False, bins=int(nbins))\n",
    "    hist, bins = np.histogram(data, density=False, bins=int(nbins))\n",
    "    width = 0.7 * (bins[1] - bins[0])\n",
    "    center = (bins[:-1] + bins[1:]) / 2\n",
    "    nsamples = len(data)*3\n",
    "    ax[0].bar(center, hist/nsamples, align='center', width=width, label=key, fill=False, hatch=hatch[key])\n",
    "ax[0].plot([2**(1/0.2854498373089882), 2**(1/0.2854498373089882)], [0, 0.18], 'k--', label='Median Cut-Off')\n",
    "ax[0].tick_params(axis='both', which='major', labelsize=22)\n",
    "ax[0].set_ylabel('Number of Samples [normalised]', fontsize=24)\n",
    "#ax[0].set_yticks(np.arange(0, 0.176, 0.025))\n",
    "#ax[0].set_yticklabels(np.arange(0, 0.176, 0.025))\n",
    "ax[0].set_title(r'$G1$', fontsize=22)\n",
    "ax[0].legend(fontsize=18)\n",
    "ax[0].grid()\n",
    "\n",
    "glob_pan = []\n",
    "glob_tilt = []\n",
    "for key in ['lo', 'med', 'hi']:\n",
    "    pan = []\n",
    "    tilt = []\n",
    "    for dset in data_s[key]:\n",
    "        code = dset.file.split('/')[10]\n",
    "        if code not in datasets.keys():\n",
    "            datasets[code] = {}\n",
    "        datasets[code][key] = {}\n",
    "        datasets[code][key]['pan'] = []\n",
    "        datasets[code][key]['tilt'] = []\n",
    "        pans, tilts = get_error(dset)\n",
    "        if len(pans) != 0 and len(tilts) != 0:\n",
    "            datasets[code][key]['pan'].append(np.median(pans))\n",
    "            datasets[code][key]['tilt'].append(np.median(np.array(tilts)))\n",
    "            pan.append(np.median(pans))\n",
    "            tilt.append(np.median(tilts))\n",
    "            # pans.append(np.median(pan))\n",
    "            # tilts.append(np.median(tilt))\n",
    "    glob_pan.append(pan)\n",
    "    glob_tilt.append(tilt)\n",
    "pans = []\n",
    "tilts = []\n",
    "for code in datasets.keys():\n",
    "    pan = []\n",
    "    tilt = []\n",
    "    for key in datasets[code].keys():\n",
    "        if len(datasets[code][key]['tilt']) != 0:\n",
    "            pan.append(datasets[code][key]['pan'])\n",
    "            tilt.append(datasets[code][key]['tilt'][0])\n",
    "    tilts.append(tilt)\n",
    "    pans.append(pan)\n",
    "\n",
    "hatch = {'lo': '/', 'med': 'x', 'hi': 'o'}\n",
    "for key in ['lo', 'med', 'hi']:\n",
    "    nbins = 5\n",
    "    data = [datasets[code][key]['tilt'][0] if len(datasets[code][key]['tilt']) != 0 else 0.0 for code in datasets.keys()]\n",
    "    data = [rad_to_hz(data[i], key) for i in range(len(data))]\n",
    "    # hist, bins = np.histogram(np.log2(data), normed=False, bins=int(nbins))\n",
    "    hist, bins = np.histogram(data, density=False, bins=int(nbins))\n",
    "    width = 0.7 * (bins[1] - bins[0])\n",
    "    center = (bins[:-1] + bins[1:]) / 2\n",
    "    nsamples = len(data)*3\n",
    "    ax[1].bar(center, hist/nsamples, align='center', width=width, label=key, fill=False, hatch=hatch[key])\n",
    "ax[1].plot([2**(1/0.3506489946182825), 2**(1/0.3506489946182825)], [0, 0.18], 'k--')\n",
    "ax[1].tick_params(axis='both', which='major', labelsize=22)\n",
    "ax[1].set_title(r'$G2$', fontsize=22)\n",
    "ax[1].grid()\n",
    "\n",
    "f.text(0.55, -0.01, 'Sound Frequency [Hz]', ha='center', fontsize=24)\n",
    "f.text(0.55, 1.0, '75% Cut-Off Thresholds', ha='center', fontsize=24)\n",
    "f.tight_layout()\n",
    "plt.tick_params(labelcolor='none', top=False, bottom=False, left=False, right=False, which='both')\n",
    "plt.show()"
   ]
  }
 ],
 "metadata": {
  "kernelspec": {
   "display_name": "Python 3",
   "language": "python",
   "name": "python3"
  },
  "language_info": {
   "codemirror_mode": {
    "name": "ipython",
    "version": 3
   },
   "file_extension": ".py",
   "mimetype": "text/x-python",
   "name": "python",
   "nbconvert_exporter": "python",
   "pygments_lexer": "ipython3",
   "version": "3.6.8"
  }
 },
 "nbformat": 4,
 "nbformat_minor": 2
}
